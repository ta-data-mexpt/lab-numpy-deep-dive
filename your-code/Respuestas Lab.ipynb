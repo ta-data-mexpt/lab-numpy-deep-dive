{
 "cells": [
  {
   "cell_type": "code",
   "execution_count": 1,
   "id": "477704de",
   "metadata": {},
   "outputs": [],
   "source": [
    "#1. Import the NUMPY package under the name np.\n",
    "import numpy as np"
   ]
  },
  {
   "cell_type": "code",
   "execution_count": 2,
   "id": "812d2330",
   "metadata": {},
   "outputs": [
    {
     "name": "stdout",
     "output_type": "stream",
     "text": [
      "1.20.1\n",
      "blas_mkl_info:\n",
      "    libraries = ['mkl_rt']\n",
      "    library_dirs = ['C:/Users/Tania/anaconda3\\\\Library\\\\lib']\n",
      "    define_macros = [('SCIPY_MKL_H', None), ('HAVE_CBLAS', None)]\n",
      "    include_dirs = ['C:/Users/Tania/anaconda3\\\\Library\\\\include']\n",
      "blas_opt_info:\n",
      "    libraries = ['mkl_rt']\n",
      "    library_dirs = ['C:/Users/Tania/anaconda3\\\\Library\\\\lib']\n",
      "    define_macros = [('SCIPY_MKL_H', None), ('HAVE_CBLAS', None)]\n",
      "    include_dirs = ['C:/Users/Tania/anaconda3\\\\Library\\\\include']\n",
      "lapack_mkl_info:\n",
      "    libraries = ['mkl_rt']\n",
      "    library_dirs = ['C:/Users/Tania/anaconda3\\\\Library\\\\lib']\n",
      "    define_macros = [('SCIPY_MKL_H', None), ('HAVE_CBLAS', None)]\n",
      "    include_dirs = ['C:/Users/Tania/anaconda3\\\\Library\\\\include']\n",
      "lapack_opt_info:\n",
      "    libraries = ['mkl_rt']\n",
      "    library_dirs = ['C:/Users/Tania/anaconda3\\\\Library\\\\lib']\n",
      "    define_macros = [('SCIPY_MKL_H', None), ('HAVE_CBLAS', None)]\n",
      "    include_dirs = ['C:/Users/Tania/anaconda3\\\\Library\\\\include']\n",
      "None\n"
     ]
    }
   ],
   "source": [
    "#2. Print the NUMPY version and the configuration.\n",
    "print(np.__version__)\n",
    "print(np.show_config())"
   ]
  },
  {
   "cell_type": "code",
   "execution_count": 3,
   "id": "fc345d68",
   "metadata": {},
   "outputs": [],
   "source": [
    "#3. Generate a 2x3x5 3-dimensional array with random values. Assign the array to variable \"a\"\n",
    "# Challenge: there are at least three easy ways that use numpy to generate random arrays. How many ways can you find?\n",
    "#np.random.rand(2,3,5) llena de  números aleatorios entre cero y 1\n",
    "a = np.random.random((2,3,5))\n"
   ]
  },
  {
   "cell_type": "code",
   "execution_count": 4,
   "id": "fe5ab8be",
   "metadata": {},
   "outputs": [
    {
     "name": "stdout",
     "output_type": "stream",
     "text": [
      "[[[0.29057108 0.78083715 0.21461933 0.31693685 0.00186377]\n",
      "  [0.23522512 0.94001998 0.17134013 0.8851236  0.89174077]\n",
      "  [0.79367091 0.28001089 0.11917801 0.95861795 0.51579992]]\n",
      "\n",
      " [[0.77195555 0.20554946 0.4708228  0.95942996 0.00224431]\n",
      "  [0.02449141 0.21085901 0.67645596 0.35057389 0.57573966]\n",
      "  [0.95767717 0.71964547 0.54174563 0.50244966 0.29291625]]]\n"
     ]
    }
   ],
   "source": [
    "#4. Print a.\n",
    "print(a)"
   ]
  },
  {
   "cell_type": "code",
   "execution_count": 5,
   "id": "81238da1",
   "metadata": {},
   "outputs": [],
   "source": [
    "#5. Create a 5x2x3 3-dimensional array with all values equaling 1.\n",
    "#Assign the array to variable \"b\"\n",
    "#tenia que ser un array de 5x3x2 para que su transpuesta coincida mas adelante con a\n",
    "b=np.ones((5,3,2)) \n",
    "\n"
   ]
  },
  {
   "cell_type": "code",
   "execution_count": 6,
   "id": "29b9867c",
   "metadata": {},
   "outputs": [
    {
     "name": "stdout",
     "output_type": "stream",
     "text": [
      "[[[1. 1.]\n",
      "  [1. 1.]\n",
      "  [1. 1.]]\n",
      "\n",
      " [[1. 1.]\n",
      "  [1. 1.]\n",
      "  [1. 1.]]\n",
      "\n",
      " [[1. 1.]\n",
      "  [1. 1.]\n",
      "  [1. 1.]]\n",
      "\n",
      " [[1. 1.]\n",
      "  [1. 1.]\n",
      "  [1. 1.]]\n",
      "\n",
      " [[1. 1.]\n",
      "  [1. 1.]\n",
      "  [1. 1.]]]\n"
     ]
    }
   ],
   "source": [
    "#6. Print b.\n",
    "print(b)"
   ]
  },
  {
   "cell_type": "code",
   "execution_count": 7,
   "id": "8fe72388",
   "metadata": {},
   "outputs": [
    {
     "name": "stdout",
     "output_type": "stream",
     "text": [
      "30\n",
      "30\n"
     ]
    }
   ],
   "source": [
    "#7. Do a and b have the same size? How do you prove that in Python code? \n",
    "#con size\n",
    "print(a.size) \n",
    "print(b.size)"
   ]
  },
  {
   "cell_type": "code",
   "execution_count": 8,
   "id": "3e9b73fa",
   "metadata": {},
   "outputs": [],
   "source": [
    "#8. Are you able to add a and b? Why or why not?\n",
    "#no, porque no tienen los mismos shapes"
   ]
  },
  {
   "cell_type": "code",
   "execution_count": 9,
   "id": "dc1cef19",
   "metadata": {},
   "outputs": [],
   "source": [
    "#9. Transpose b so that it has the same structure of a (i.e. become a 2x3x5 array). Assign the transposed array to varialbe \"c\".\n",
    "\n",
    "c=b.T"
   ]
  },
  {
   "cell_type": "code",
   "execution_count": 10,
   "id": "5e9ab5a5",
   "metadata": {},
   "outputs": [
    {
     "data": {
      "text/plain": [
       "array([[[1.29057108, 1.78083715, 1.21461933, 1.31693685, 1.00186377],\n",
       "        [1.23522512, 1.94001998, 1.17134013, 1.8851236 , 1.89174077],\n",
       "        [1.79367091, 1.28001089, 1.11917801, 1.95861795, 1.51579992]],\n",
       "\n",
       "       [[1.77195555, 1.20554946, 1.4708228 , 1.95942996, 1.00224431],\n",
       "        [1.02449141, 1.21085901, 1.67645596, 1.35057389, 1.57573966],\n",
       "        [1.95767717, 1.71964547, 1.54174563, 1.50244966, 1.29291625]]])"
      ]
     },
     "execution_count": 10,
     "metadata": {},
     "output_type": "execute_result"
    }
   ],
   "source": [
    "#10. Try to add a and c. Now it should work. Assign the sum to varialbe \"d\". But why does it work now?\n",
    "d=np.add(a, c)\n",
    "d"
   ]
  },
  {
   "cell_type": "code",
   "execution_count": 11,
   "id": "c41d99d3",
   "metadata": {},
   "outputs": [
    {
     "name": "stdout",
     "output_type": "stream",
     "text": [
      "[[[0.29057108 0.78083715 0.21461933 0.31693685 0.00186377]\n",
      "  [0.23522512 0.94001998 0.17134013 0.8851236  0.89174077]\n",
      "  [0.79367091 0.28001089 0.11917801 0.95861795 0.51579992]]\n",
      "\n",
      " [[0.77195555 0.20554946 0.4708228  0.95942996 0.00224431]\n",
      "  [0.02449141 0.21085901 0.67645596 0.35057389 0.57573966]\n",
      "  [0.95767717 0.71964547 0.54174563 0.50244966 0.29291625]]]\n",
      "[[[1.29057108 1.78083715 1.21461933 1.31693685 1.00186377]\n",
      "  [1.23522512 1.94001998 1.17134013 1.8851236  1.89174077]\n",
      "  [1.79367091 1.28001089 1.11917801 1.95861795 1.51579992]]\n",
      "\n",
      " [[1.77195555 1.20554946 1.4708228  1.95942996 1.00224431]\n",
      "  [1.02449141 1.21085901 1.67645596 1.35057389 1.57573966]\n",
      "  [1.95767717 1.71964547 1.54174563 1.50244966 1.29291625]]]\n"
     ]
    }
   ],
   "source": [
    "#11. Print a and d. Notice the difference and relation of the two array in terms of the values? Explain.\n",
    "print(a)\n",
    "print(d)\n",
    "\n",
    "#A cada elemento de la matriz a se le sumo el elemento correspondiente de la matriz c (todos los elementos eran 1) \n",
    "#así que cada elemento de d es el elemnto de a +1"
   ]
  },
  {
   "cell_type": "code",
   "execution_count": 12,
   "id": "b2447235",
   "metadata": {},
   "outputs": [],
   "source": [
    "#12. Multiply a and c. Assign the result to e.\n",
    "e=np.multiply(a, c)"
   ]
  },
  {
   "cell_type": "code",
   "execution_count": 13,
   "id": "0ef2b6a9",
   "metadata": {},
   "outputs": [
    {
     "name": "stdout",
     "output_type": "stream",
     "text": [
      "[[[0.29057108 0.78083715 0.21461933 0.31693685 0.00186377]\n",
      "  [0.23522512 0.94001998 0.17134013 0.8851236  0.89174077]\n",
      "  [0.79367091 0.28001089 0.11917801 0.95861795 0.51579992]]\n",
      "\n",
      " [[0.77195555 0.20554946 0.4708228  0.95942996 0.00224431]\n",
      "  [0.02449141 0.21085901 0.67645596 0.35057389 0.57573966]\n",
      "  [0.95767717 0.71964547 0.54174563 0.50244966 0.29291625]]]\n",
      "[[[0.29057108 0.78083715 0.21461933 0.31693685 0.00186377]\n",
      "  [0.23522512 0.94001998 0.17134013 0.8851236  0.89174077]\n",
      "  [0.79367091 0.28001089 0.11917801 0.95861795 0.51579992]]\n",
      "\n",
      " [[0.77195555 0.20554946 0.4708228  0.95942996 0.00224431]\n",
      "  [0.02449141 0.21085901 0.67645596 0.35057389 0.57573966]\n",
      "  [0.95767717 0.71964547 0.54174563 0.50244966 0.29291625]]]\n"
     ]
    },
    {
     "data": {
      "text/plain": [
       "'si son iguales porque se multiplica entrada por entrada'"
      ]
     },
     "execution_count": 13,
     "metadata": {},
     "output_type": "execute_result"
    }
   ],
   "source": [
    "#13. Does e equal to a? Why or why not?\n",
    "print(a)\n",
    "print(e)\n",
    "\"si son iguales porque se multiplica entrada por entrada\""
   ]
  },
  {
   "cell_type": "code",
   "execution_count": 14,
   "id": "fbc02a11",
   "metadata": {},
   "outputs": [
    {
     "name": "stdout",
     "output_type": "stream",
     "text": [
      "1.4886037210377256\n",
      "1.9594299639420125\n",
      "1.0018637749345578\n"
     ]
    }
   ],
   "source": [
    "#14. Identify the max, min, and mean values in d. Assign those values to variables \"d_max\", \"d_min\", and \"d_mean\"\n",
    "d_mean=np.mean(d)\n",
    "d_max=np.max(d)\n",
    "d_min=np.min(d)\n",
    "print(d_mean)\n",
    "print(d_max)\n",
    "print(d_min)"
   ]
  },
  {
   "cell_type": "code",
   "execution_count": 15,
   "id": "fc161359",
   "metadata": {},
   "outputs": [
    {
     "name": "stdout",
     "output_type": "stream",
     "text": [
      "[[[1.29057108 1.78083715 1.21461933 1.31693685 1.00186377]\n",
      "  [1.23522512 1.94001998 1.17134013 1.8851236  1.89174077]\n",
      "  [1.79367091 1.28001089 1.11917801 1.95861795 1.51579992]]\n",
      "\n",
      " [[1.77195555 1.20554946 1.4708228  1.95942996 1.00224431]\n",
      "  [1.02449141 1.21085901 1.67645596 1.35057389 1.57573966]\n",
      "  [1.95767717 1.71964547 1.54174563 1.50244966 1.29291625]]]\n",
      "[[[0.29057108 0.78083715 0.21461933 0.31693685 0.00186377]\n",
      "  [0.23522512 0.94001998 0.17134013 0.8851236  0.89174077]\n",
      "  [0.79367091 0.28001089 0.11917801 0.95861795 0.51579992]]\n",
      "\n",
      " [[0.77195555 0.20554946 0.4708228  0.95942996 0.00224431]\n",
      "  [0.02449141 0.21085901 0.67645596 0.35057389 0.57573966]\n",
      "  [0.95767717 0.71964547 0.54174563 0.50244966 0.29291625]]]\n"
     ]
    }
   ],
   "source": [
    "#15. Now we want to label the values in d. First create an empty array \"f\" with the same shape (i.e. 2x3x5) as d using `np.empty`.\n",
    "f=np.empty((2,3,5))\n",
    "print (d)\n",
    "print(f)"
   ]
  },
  {
   "cell_type": "code",
   "execution_count": 22,
   "id": "686a1140",
   "metadata": {},
   "outputs": [],
   "source": [
    "\"\"\"\n",
    "#16. Populate the values in f. For each value in d, if it's larger than d_min but smaller than d_mean, assign 25 to the corresponding value in f.\n",
    "If a value in d is larger than d_mean but smaller than d_max, assign 75 to the corresponding value in f.\n",
    "If a value equals to d_mean, assign 50 to the corresponding value in f.\n",
    "Assign 0 to the corresponding value(s) in f for d_min in d.\n",
    "Assign 100 to the corresponding value(s) in f for d_max in d.\n",
    "In the end, f should have only the following values: 0, 25, 50, 75, and 100.\n",
    "Note: you don't have to use Numpy in this question.\n",
    "\"\"\"\n",
    "for i in range(2):\n",
    "    for j in range(3):\n",
    "        for k in range (5):\n",
    "            if  d_min<d[i,j,k] and d[i,j,k]<d_mean:\n",
    "                f[i,j,k]=25\n",
    "            elif d_mean<d[i,j,k] and d[i,j,k]<d_max:\n",
    "                f[i,j,k]=75\n",
    "            elif d[i,j,k]==d_mean:\n",
    "                f[i,j,k]=50 \n",
    "            elif d[i,j,k]==d_min:\n",
    "                f[i,j,k]=0\n",
    "            elif d[i,j,k]==d_max:\n",
    "                f[i,j,k]=100\n",
    "    \n"
   ]
  },
  {
   "cell_type": "code",
   "execution_count": 23,
   "id": "2e7ed3ab",
   "metadata": {},
   "outputs": [
    {
     "name": "stdout",
     "output_type": "stream",
     "text": [
      "[[[ 25.  75.  25.  25.   0.]\n",
      "  [ 25.  75.  25.  75.  75.]\n",
      "  [ 75.  25.  25.  75.  75.]]\n",
      "\n",
      " [[ 75.  25.  25. 100.  25.]\n",
      "  [ 25.  25.  75.  25.  75.]\n",
      "  [ 75.  75.  75.  75.  25.]]]\n"
     ]
    }
   ],
   "source": [
    "\n",
    "\"\"\"\n",
    "#17. Print d and f. Do you have your expected f?\n",
    "For instance, if your d is:\n",
    "array([[[1.85836099, 1.67064465, 1.62576044, 1.40243961, 1.88454931],\n",
    "        [1.75354326, 1.69403643, 1.36729252, 1.61415071, 1.12104981],\n",
    "        [1.72201435, 1.1862918 , 1.87078449, 1.7726778 , 1.88180042]],\n",
    "\n",
    "       [[1.44747908, 1.31673383, 1.02000951, 1.52218947, 1.97066381],\n",
    "        [1.79129243, 1.74983003, 1.96028037, 1.85166831, 1.65450881],\n",
    "        [1.18068344, 1.9587381 , 1.00656599, 1.93402165, 1.73514584]]])\n",
    "\n",
    "Your f should be:\n",
    "array([[[ 75.,  75.,  75.,  25.,  75.],\n",
    "        [ 75.,  75.,  25.,  25.,  25.],\n",
    "        [ 75.,  25.,  75.,  75.,  75.]],\n",
    "\n",
    "       [[ 25.,  25.,  25.,  25., 100.],\n",
    "        [ 75.,  75.,  75.,  75.,  75.],\n",
    "        [ 25.,  75.,   0.,  75.,  75.]]])\n",
    "\"\"\"\n",
    "print(f)"
   ]
  },
  {
   "cell_type": "code",
   "execution_count": 36,
   "id": "e8bb9886",
   "metadata": {},
   "outputs": [
    {
     "ename": "ValueError",
     "evalue": "could not convert string to float: 'B'",
     "output_type": "error",
     "traceback": [
      "\u001b[1;31m---------------------------------------------------------------------------\u001b[0m",
      "\u001b[1;31mValueError\u001b[0m                                Traceback (most recent call last)",
      "\u001b[1;32m<ipython-input-36-73b1edb15c5d>\u001b[0m in \u001b[0;36m<module>\u001b[1;34m\u001b[0m\n\u001b[0;32m     17\u001b[0m             \u001b[0mstr\u001b[0m\u001b[1;33m(\u001b[0m\u001b[0mf\u001b[0m\u001b[1;33m[\u001b[0m\u001b[0mi\u001b[0m\u001b[1;33m,\u001b[0m\u001b[0mj\u001b[0m\u001b[1;33m,\u001b[0m\u001b[0mk\u001b[0m\u001b[1;33m]\u001b[0m\u001b[1;33m)\u001b[0m\u001b[1;33m\u001b[0m\u001b[1;33m\u001b[0m\u001b[0m\n\u001b[0;32m     18\u001b[0m             \u001b[1;32mif\u001b[0m  \u001b[0md_min\u001b[0m\u001b[1;33m<\u001b[0m\u001b[0md\u001b[0m\u001b[1;33m[\u001b[0m\u001b[0mi\u001b[0m\u001b[1;33m,\u001b[0m\u001b[0mj\u001b[0m\u001b[1;33m,\u001b[0m\u001b[0mk\u001b[0m\u001b[1;33m]\u001b[0m \u001b[1;32mand\u001b[0m \u001b[0md\u001b[0m\u001b[1;33m[\u001b[0m\u001b[0mi\u001b[0m\u001b[1;33m,\u001b[0m\u001b[0mj\u001b[0m\u001b[1;33m,\u001b[0m\u001b[0mk\u001b[0m\u001b[1;33m]\u001b[0m\u001b[1;33m<\u001b[0m\u001b[0md_mean\u001b[0m\u001b[1;33m:\u001b[0m\u001b[1;33m\u001b[0m\u001b[1;33m\u001b[0m\u001b[0m\n\u001b[1;32m---> 19\u001b[1;33m                 \u001b[0mf\u001b[0m\u001b[1;33m[\u001b[0m\u001b[0mi\u001b[0m\u001b[1;33m,\u001b[0m\u001b[0mj\u001b[0m\u001b[1;33m,\u001b[0m\u001b[0mk\u001b[0m\u001b[1;33m]\u001b[0m\u001b[1;33m=\u001b[0m\u001b[1;34m\"B\"\u001b[0m\u001b[1;33m\u001b[0m\u001b[1;33m\u001b[0m\u001b[0m\n\u001b[0m\u001b[0;32m     20\u001b[0m             \u001b[1;32melif\u001b[0m \u001b[0md_mean\u001b[0m\u001b[1;33m<\u001b[0m\u001b[0md\u001b[0m\u001b[1;33m[\u001b[0m\u001b[0mi\u001b[0m\u001b[1;33m,\u001b[0m\u001b[0mj\u001b[0m\u001b[1;33m,\u001b[0m\u001b[0mk\u001b[0m\u001b[1;33m]\u001b[0m \u001b[1;32mand\u001b[0m \u001b[0md\u001b[0m\u001b[1;33m[\u001b[0m\u001b[0mi\u001b[0m\u001b[1;33m,\u001b[0m\u001b[0mj\u001b[0m\u001b[1;33m,\u001b[0m\u001b[0mk\u001b[0m\u001b[1;33m]\u001b[0m\u001b[1;33m<\u001b[0m\u001b[0md_max\u001b[0m\u001b[1;33m:\u001b[0m\u001b[1;33m\u001b[0m\u001b[1;33m\u001b[0m\u001b[0m\n\u001b[0;32m     21\u001b[0m                 \u001b[0mf\u001b[0m\u001b[1;33m[\u001b[0m\u001b[0mi\u001b[0m\u001b[1;33m,\u001b[0m\u001b[0mj\u001b[0m\u001b[1;33m,\u001b[0m\u001b[0mk\u001b[0m\u001b[1;33m]\u001b[0m\u001b[1;33m=\u001b[0m\u001b[1;34m\"D\"\u001b[0m\u001b[1;33m\u001b[0m\u001b[1;33m\u001b[0m\u001b[0m\n",
      "\u001b[1;31mValueError\u001b[0m: could not convert string to float: 'B'"
     ]
    }
   ],
   "source": [
    "\"\"\"\n",
    "#18. Bonus question: instead of using numbers (i.e. 0, 25, 50, 75, and 100), how to use string values \n",
    "(\"A\", \"B\", \"C\", \"D\", and \"E\") to label the array elements? You are expecting the result to be:\n",
    "array([[[ 'D',  'D',  'D',  'B',  'D'],\n",
    "        [ 'D',  'D',  'B',  'B',  'B'],\n",
    "        [ 'D',  'B',  'D',  'D',  'D']],\n",
    "\n",
    "       [[ 'B',  'B',  'B',  'B',  'E'],\n",
    "        [ 'D',  'D',  'D',  'D',  'D'],\n",
    "        [ 'B',  'D',   'A',  'D', 'D']]])\n",
    "Again, you don't need Numpy in this question.\n",
    "\"\"\"\n",
    "\n",
    "for i in range(2):\n",
    "    for j in range(3):\n",
    "        for k in range (5):\n",
    "            if  d_min<d[i,j,k] and d[i,j,k]<d_mean:\n",
    "                f[i,j,k]=\"B\"\n",
    "            elif d_mean<d[i,j,k] and d[i,j,k]<d_max:\n",
    "                f[i,j,k]=\"D\"\n",
    "            elif d[i,j,k]==d_mean:\n",
    "                f[i,j,k]=\"C\"\n",
    "            elif d[i,j,k]==d_min:\n",
    "                f[i,j,k]=\"A\"\n",
    "            elif d[i,j,k]==d_max:\n",
    "                f[i,j,k]=\"E\"\n",
    "\"No doy con como modificarlo para que corra \""
   ]
  },
  {
   "cell_type": "code",
   "execution_count": null,
   "id": "5d70e82e",
   "metadata": {},
   "outputs": [],
   "source": []
  },
  {
   "cell_type": "code",
   "execution_count": null,
   "id": "bf387cf9",
   "metadata": {},
   "outputs": [],
   "source": []
  }
 ],
 "metadata": {
  "kernelspec": {
   "display_name": "Python 3",
   "language": "python",
   "name": "python3"
  },
  "language_info": {
   "codemirror_mode": {
    "name": "ipython",
    "version": 3
   },
   "file_extension": ".py",
   "mimetype": "text/x-python",
   "name": "python",
   "nbconvert_exporter": "python",
   "pygments_lexer": "ipython3",
   "version": "3.8.8"
  }
 },
 "nbformat": 4,
 "nbformat_minor": 5
}
