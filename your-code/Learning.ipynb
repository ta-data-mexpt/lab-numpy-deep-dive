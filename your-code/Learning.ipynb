{
 "cells": [
  {
   "cell_type": "markdown",
   "metadata": {},
   "source": [
    "# Introduction to Numpy\n",
    "\n",
    "Lesson Goals\n",
    "\n",
    "    Learn about Numpy data structures.\n",
    "    Extract data from Numpy arrays.\n",
    "    Convert other Python data structures to Numpy arrays.\n",
    "    Perform basic mathematical functions on arrays and elements.\n",
    "\n",
    "Introduction\n",
    "\n",
    "Many of the libraries you will use to perform data analysis in Python, as well as many of the mathematical functions you'll use, will involve working with Numpy. Numpy (short for Numerical Python) is used for numeric computing and includes support for multi-dimensional arrays and matrices along with a variety of mathematical functions to apply to them. In this lesson, we will learn about Numpy's primary data structures and how to apply some basic math functions to them.\n",
    "Importing Numpy\n",
    "\n",
    "In order to use Numpy, you must first import it. It is common to also alias it to np using the as keyword so that you don't have to spell out \"numpy\" every time you want to call one of its methods. "
   ]
  },
  {
   "cell_type": "code",
   "execution_count": 1,
   "metadata": {},
   "outputs": [],
   "source": [
    "import numpy as np"
   ]
  },
  {
   "cell_type": "markdown",
   "metadata": {},
   "source": [
    "Once the library has been imported, it is ready to use.\n",
    "Numpy Arrays\n",
    "\n",
    "The basic data structures in Numpy are arrays, which can be used to represent tabular data. You can think of arrays as lists of lists, where all the elements of a list are of the same type (typically numeric since the reason you use Numpy is to do numeric computing). A matrix is just a two-dimensional array.\n",
    "\n",
    "The size of an array is the total number of elements in every list. The shape of an array is the size of the array along each dimension (e.g. number of rows and number of columns for a two-dimensional array). Let's create a two dimensional 10 x 4 array containing random numbers and calculate the shape and size of the array using the shape and size methods. "
   ]
  },
  {
   "cell_type": "code",
   "execution_count": 2,
   "metadata": {},
   "outputs": [
    {
     "name": "stdout",
     "output_type": "stream",
     "text": [
      "[[0.39459665 0.88851884 0.00605624 0.64941339]\n",
      " [0.39338943 0.90418579 0.12360893 0.55218021]\n",
      " [0.97461596 0.15316601 0.94277335 0.52858777]\n",
      " [0.9071201  0.93421288 0.77667424 0.25644491]\n",
      " [0.0225574  0.12602753 0.01014696 0.73427243]\n",
      " [0.71288437 0.40785337 0.07596351 0.02724939]\n",
      " [0.15489232 0.42306704 0.86673524 0.4158812 ]\n",
      " [0.99074767 0.04274423 0.17014499 0.90638013]\n",
      " [0.28756366 0.08947601 0.27402359 0.09446271]\n",
      " [0.07384804 0.46263642 0.16969435 0.30598519]]\n"
     ]
    }
   ],
   "source": [
    "a = np.random.random((10,4))\n",
    "print(a)"
   ]
  },
  {
   "cell_type": "code",
   "execution_count": 3,
   "metadata": {},
   "outputs": [
    {
     "name": "stdout",
     "output_type": "stream",
     "text": [
      "(10, 4)\n",
      "40\n"
     ]
    }
   ],
   "source": [
    "print(a.shape)\n",
    "print(a.size)"
   ]
  },
  {
   "cell_type": "markdown",
   "metadata": {},
   "source": [
    "As you can see, the array has a shape of 10 x 4 (just as we specified) and the total number of elements in the array is 40.\n",
    "\n",
    "Now that we have seen an example of a basic two-dimensional array (a matrix), let's learn about how creating arrays with more dimensions than two works in Numpy. Let's build a three-dimensional array of random numbers and see what that looks like."
   ]
  },
  {
   "cell_type": "code",
   "execution_count": 4,
   "metadata": {},
   "outputs": [
    {
     "name": "stdout",
     "output_type": "stream",
     "text": [
      "[[[0.36077365 0.51605427 0.89113807]\n",
      "  [0.08890659 0.39962334 0.93888099]]\n",
      "\n",
      " [[0.54278657 0.09211764 0.01043623]\n",
      "  [0.29849713 0.00692144 0.7405961 ]]\n",
      "\n",
      " [[0.9942927  0.21446308 0.59001663]\n",
      "  [0.68507346 0.43815302 0.58954295]]\n",
      "\n",
      " [[0.11081592 0.44535007 0.10746876]\n",
      "  [0.61432177 0.1027117  0.91077969]]\n",
      "\n",
      " [[0.59644262 0.47879383 0.53818014]\n",
      "  [0.12261603 0.59824495 0.99081499]]]\n"
     ]
    }
   ],
   "source": [
    "b = np.random.random((5,2,3))\n",
    "print(b)"
   ]
  },
  {
   "cell_type": "markdown",
   "metadata": {},
   "source": [
    "This created an array with five groups of 2 x 3 matrices. Let's see what happens if we pass four dimensions."
   ]
  },
  {
   "cell_type": "code",
   "execution_count": 5,
   "metadata": {},
   "outputs": [
    {
     "name": "stdout",
     "output_type": "stream",
     "text": [
      "[[[[0.83127876 0.2218899  0.83554886 0.27168445 0.28118922]\n",
      "   [0.46574909 0.88857145 0.49332262 0.39070349 0.70514155]\n",
      "   [0.81118604 0.09144707 0.64397231 0.04556512 0.87733615]\n",
      "   [0.8815738  0.3016845  0.34986762 0.50471532 0.57529516]]\n",
      "\n",
      "  [[0.53384093 0.75215767 0.28587537 0.53493166 0.16260106]\n",
      "   [0.0428399  0.2450121  0.2519478  0.84787301 0.59083975]\n",
      "   [0.24832723 0.05990527 0.85189647 0.90753574 0.10919487]\n",
      "   [0.6263872  0.37063877 0.80647941 0.68787016 0.05192625]]\n",
      "\n",
      "  [[0.95662079 0.29026812 0.31287794 0.49951182 0.42336249]\n",
      "   [0.26460484 0.04995373 0.93143376 0.95116716 0.9104429 ]\n",
      "   [0.72813332 0.39103547 0.19360935 0.15607086 0.50080627]\n",
      "   [0.81158419 0.17359868 0.56640531 0.45625555 0.89190303]]]\n",
      "\n",
      "\n",
      " [[[0.39343492 0.35838765 0.61522991 0.47450167 0.01507295]\n",
      "   [0.43691564 0.82971997 0.70515812 0.19589449 0.85022868]\n",
      "   [0.85630431 0.59916712 0.35936841 0.73021638 0.32134293]\n",
      "   [0.82803146 0.94040034 0.17859228 0.3844145  0.21487334]]\n",
      "\n",
      "  [[0.61426116 0.48472352 0.79742163 0.89747453 0.41377977]\n",
      "   [0.41514784 0.9356455  0.67575701 0.88211932 0.81572103]\n",
      "   [0.42756387 0.89465224 0.08699392 0.06688255 0.80727458]\n",
      "   [0.84870677 0.28879538 0.00181227 0.70849372 0.85987866]]\n",
      "\n",
      "  [[0.71564514 0.88358785 0.60601084 0.72896535 0.35783859]\n",
      "   [0.90881333 0.14368049 0.36528331 0.32464463 0.32723692]\n",
      "   [0.30252065 0.81536728 0.14169843 0.58588474 0.67882169]\n",
      "   [0.10269461 0.6408601  0.80551557 0.0292846  0.82545067]]]]\n"
     ]
    }
   ],
   "source": [
    "c = np.random.random((2,3,4,5))\n",
    "print(c)"
   ]
  },
  {
   "cell_type": "markdown",
   "metadata": {},
   "source": [
    "This time, we got two groups of three 4 x 5 matrices.\n",
    "\n",
    "\n",
    "# Extracting Data from Arrays\n",
    "\n",
    "Extracting elements from arrays works just like it does for other Python data structures. We just need to reference the indexes of the values we want to extract. Below are some examples of how to reference specific rows, columns, and values in a two dimensional array."
   ]
  },
  {
   "cell_type": "code",
   "execution_count": 6,
   "metadata": {},
   "outputs": [
    {
     "name": "stdout",
     "output_type": "stream",
     "text": [
      "[0.39459665 0.88851884 0.00605624 0.64941339]\n"
     ]
    }
   ],
   "source": [
    "# First row of matrix a\n",
    "print(a[0])"
   ]
  },
  {
   "cell_type": "code",
   "execution_count": 7,
   "metadata": {},
   "outputs": [
    {
     "name": "stdout",
     "output_type": "stream",
     "text": [
      "[0.39459665 0.39338943 0.97461596 0.9071201  0.0225574  0.71288437\n",
      " 0.15489232 0.99074767 0.28756366 0.07384804]\n"
     ]
    }
   ],
   "source": [
    "# First column of matrix a\n",
    "print(a[:,0])"
   ]
  },
  {
   "cell_type": "code",
   "execution_count": 8,
   "metadata": {},
   "outputs": [
    {
     "name": "stdout",
     "output_type": "stream",
     "text": [
      "0.010146955701243576\n"
     ]
    }
   ],
   "source": [
    "# Value in the fifth row and third column of matrix a\n",
    "print(a[4,2])"
   ]
  },
  {
   "cell_type": "markdown",
   "metadata": {},
   "source": [
    "What about arrays that have more than two dimensions? You just pass a list of indexes for the values you want, and it will return the corresponding dimensions or values."
   ]
  },
  {
   "cell_type": "code",
   "execution_count": 9,
   "metadata": {},
   "outputs": [
    {
     "name": "stdout",
     "output_type": "stream",
     "text": [
      "[[[0.83127876 0.2218899  0.83554886 0.27168445 0.28118922]\n",
      "  [0.46574909 0.88857145 0.49332262 0.39070349 0.70514155]\n",
      "  [0.81118604 0.09144707 0.64397231 0.04556512 0.87733615]\n",
      "  [0.8815738  0.3016845  0.34986762 0.50471532 0.57529516]]\n",
      "\n",
      " [[0.53384093 0.75215767 0.28587537 0.53493166 0.16260106]\n",
      "  [0.0428399  0.2450121  0.2519478  0.84787301 0.59083975]\n",
      "  [0.24832723 0.05990527 0.85189647 0.90753574 0.10919487]\n",
      "  [0.6263872  0.37063877 0.80647941 0.68787016 0.05192625]]\n",
      "\n",
      " [[0.95662079 0.29026812 0.31287794 0.49951182 0.42336249]\n",
      "  [0.26460484 0.04995373 0.93143376 0.95116716 0.9104429 ]\n",
      "  [0.72813332 0.39103547 0.19360935 0.15607086 0.50080627]\n",
      "  [0.81158419 0.17359868 0.56640531 0.45625555 0.89190303]]]\n"
     ]
    }
   ],
   "source": [
    "# First group of array c\n",
    "print(c[0])"
   ]
  },
  {
   "cell_type": "code",
   "execution_count": 10,
   "metadata": {},
   "outputs": [
    {
     "name": "stdout",
     "output_type": "stream",
     "text": [
      "[[0.53384093 0.75215767 0.28587537 0.53493166 0.16260106]\n",
      " [0.0428399  0.2450121  0.2519478  0.84787301 0.59083975]\n",
      " [0.24832723 0.05990527 0.85189647 0.90753574 0.10919487]\n",
      " [0.6263872  0.37063877 0.80647941 0.68787016 0.05192625]]\n"
     ]
    }
   ],
   "source": [
    "# Second subgroup of the first group\n",
    "print(c[0,1])"
   ]
  },
  {
   "cell_type": "code",
   "execution_count": 11,
   "metadata": {},
   "outputs": [
    {
     "name": "stdout",
     "output_type": "stream",
     "text": [
      "[0.24832723 0.05990527 0.85189647 0.90753574 0.10919487]\n"
     ]
    }
   ],
   "source": [
    "# Third row of the second subgroup\n",
    "print(c[0,1,2])"
   ]
  },
  {
   "cell_type": "code",
   "execution_count": 12,
   "metadata": {},
   "outputs": [
    {
     "name": "stdout",
     "output_type": "stream",
     "text": [
      "[0.53493166 0.84787301 0.90753574 0.68787016]\n"
     ]
    }
   ],
   "source": [
    "# Fourth column of the second subgroup\n",
    "print(c[0,1,:,3])"
   ]
  },
  {
   "cell_type": "code",
   "execution_count": 13,
   "metadata": {},
   "outputs": [
    {
     "name": "stdout",
     "output_type": "stream",
     "text": [
      "0.907535744530308\n"
     ]
    }
   ],
   "source": [
    "# Value in the third row and fourth column of the second subgroup\n",
    "print(c[0,1,2,3])"
   ]
  },
  {
   "cell_type": "markdown",
   "metadata": {},
   "source": [
    "# Converting Other Data Structures to Arrays\n",
    "\n",
    "If you have data in another type of data structure and you would like to convert it to an array so that you can take advantage of Numpy's mathematical functions, you can convert them using the array() method as follows. "
   ]
  },
  {
   "cell_type": "code",
   "execution_count": 14,
   "metadata": {},
   "outputs": [
    {
     "name": "stdout",
     "output_type": "stream",
     "text": [
      "[[1 2 3]\n",
      " [4 5 6]\n",
      " [7 8 9]]\n"
     ]
    }
   ],
   "source": [
    "lst_lst = [[1,2,3],[4,5,6],[7,8,9]]\n",
    "d = np.array(lst_lst)\n",
    "print(d)"
   ]
  },
  {
   "cell_type": "markdown",
   "metadata": {},
   "source": [
    "This works the same way whether you have a list of lists, a list of tuples, a tuple of lists, or a tuple of tuples.\n",
    "\n",
    "\n",
    "\n",
    "\n",
    "# Numpy Math Functions\n",
    "\n",
    "Now that we know how to create and navigate arrays, let's take a look at how to perform mathematical calculations on them.\n",
    "\n",
    "One of the most common (and useful) functions is np.sum, which lets you obtain the sum of any elements you select from an array. "
   ]
  },
  {
   "cell_type": "code",
   "execution_count": 15,
   "metadata": {},
   "outputs": [
    {
     "name": "stdout",
     "output_type": "stream",
     "text": [
      "17.230782420502564\n"
     ]
    }
   ],
   "source": [
    "# Sum of all elements in matrix a\n",
    "print(np.sum(a))"
   ]
  },
  {
   "cell_type": "code",
   "execution_count": 16,
   "metadata": {},
   "outputs": [
    {
     "name": "stdout",
     "output_type": "stream",
     "text": [
      "[4.9122156  4.43188812 3.41582138 4.47085732]\n"
     ]
    }
   ],
   "source": [
    "# Sum of each column in matrix a\n",
    "print(np.sum(a, axis=0))"
   ]
  },
  {
   "cell_type": "code",
   "execution_count": 17,
   "metadata": {},
   "outputs": [
    {
     "name": "stdout",
     "output_type": "stream",
     "text": [
      "[1.93858511 1.97336435 2.59914308 2.87445213 0.89300431 1.22395065\n",
      " 1.86057579 2.11001702 0.74552597 1.012164  ]\n"
     ]
    }
   ],
   "source": [
    "# Sum of each row in matrix a\n",
    "print(np.sum(a, axis=1))"
   ]
  },
  {
   "cell_type": "code",
   "execution_count": 18,
   "metadata": {},
   "outputs": [
    {
     "data": {
      "text/plain": [
       "4.886732020025238"
      ]
     },
     "execution_count": 18,
     "metadata": {},
     "output_type": "execute_result"
    }
   ],
   "source": [
    "# Sum of all the elements in the first two groups of array b\n",
    "np.sum(b[:2])"
   ]
  },
  {
   "cell_type": "markdown",
   "metadata": {},
   "source": [
    "The np.mean function works the same way and is also very useful. "
   ]
  },
  {
   "cell_type": "code",
   "execution_count": 19,
   "metadata": {},
   "outputs": [
    {
     "name": "stdout",
     "output_type": "stream",
     "text": [
      "0.4307695605125641\n"
     ]
    }
   ],
   "source": [
    "# Mean of all elements in matrix a\n",
    "print(np.mean(a))"
   ]
  },
  {
   "cell_type": "code",
   "execution_count": 20,
   "metadata": {},
   "outputs": [
    {
     "name": "stdout",
     "output_type": "stream",
     "text": [
      "[0.49122156 0.44318881 0.34158214 0.44708573]\n"
     ]
    }
   ],
   "source": [
    "# Mean of each column in matrix a\n",
    "print(np.mean(a, axis=0))"
   ]
  },
  {
   "cell_type": "code",
   "execution_count": 21,
   "metadata": {},
   "outputs": [
    {
     "name": "stdout",
     "output_type": "stream",
     "text": [
      "[0.48464628 0.49334109 0.64978577 0.71861303 0.22325108 0.30598766\n",
      " 0.46514395 0.52750426 0.18638149 0.253041  ]\n"
     ]
    }
   ],
   "source": [
    "# Mean of each row in matrix a\n",
    "print(np.mean(a, axis=1))"
   ]
  },
  {
   "cell_type": "code",
   "execution_count": 22,
   "metadata": {},
   "outputs": [
    {
     "data": {
      "text/plain": [
       "0.4072276683354365"
      ]
     },
     "execution_count": 22,
     "metadata": {},
     "output_type": "execute_result"
    }
   ],
   "source": [
    "# Mean of all the elements in the first two groups of array b\n",
    "np.mean(b[:2])"
   ]
  },
  {
   "cell_type": "markdown",
   "metadata": {},
   "source": [
    "In addition to letting you perform calculations on individual arrays, Numpy also lets you perform calculations between arrays. For example, let's select two of the subarrays from array c to illustrate how this works."
   ]
  },
  {
   "cell_type": "code",
   "execution_count": 30,
   "metadata": {},
   "outputs": [
    {
     "name": "stdout",
     "output_type": "stream",
     "text": [
      "[[0.83127876 0.2218899  0.83554886 0.27168445 0.28118922]\n",
      " [0.46574909 0.88857145 0.49332262 0.39070349 0.70514155]\n",
      " [0.81118604 0.09144707 0.64397231 0.04556512 0.87733615]\n",
      " [0.8815738  0.3016845  0.34986762 0.50471532 0.57529516]]\n"
     ]
    }
   ],
   "source": [
    "x = c[0,0]\n",
    "print(x)"
   ]
  },
  {
   "cell_type": "code",
   "execution_count": 24,
   "metadata": {},
   "outputs": [
    {
     "name": "stdout",
     "output_type": "stream",
     "text": [
      "[[0.53384093 0.75215767 0.28587537 0.53493166 0.16260106]\n",
      " [0.0428399  0.2450121  0.2519478  0.84787301 0.59083975]\n",
      " [0.24832723 0.05990527 0.85189647 0.90753574 0.10919487]\n",
      " [0.6263872  0.37063877 0.80647941 0.68787016 0.05192625]]\n"
     ]
    }
   ],
   "source": [
    "y = c[0,1]\n",
    "print(y)"
   ]
  },
  {
   "cell_type": "markdown",
   "metadata": {},
   "source": [
    "We can now add, subtract, multiply, and divide the two arrays."
   ]
  },
  {
   "cell_type": "code",
   "execution_count": 31,
   "metadata": {},
   "outputs": [
    {
     "name": "stdout",
     "output_type": "stream",
     "text": [
      "[[1.36511969 0.97404757 1.12142423 0.8066161  0.44379027]\n",
      " [0.50858899 1.13358355 0.74527042 1.2385765  1.2959813 ]\n",
      " [1.05951327 0.15135234 1.49586878 0.95310086 0.98653102]\n",
      " [1.507961   0.67232327 1.15634703 1.19258548 0.62722141]]\n"
     ]
    }
   ],
   "source": [
    "# Add elements of x and y together\n",
    "print(np.add(x, y))"
   ]
  },
  {
   "cell_type": "code",
   "execution_count": 26,
   "metadata": {},
   "outputs": [
    {
     "name": "stdout",
     "output_type": "stream",
     "text": [
      "[[[-0.29743783  0.53026777 -0.54967349  0.26324721 -0.11858816]\n",
      "  [-0.42290919 -0.64355935 -0.24137482  0.45716952 -0.1143018 ]\n",
      "  [-0.56285881 -0.03154179  0.20792416  0.86197063 -0.76814128]\n",
      "  [-0.2551866   0.06895427  0.45661179  0.18315483 -0.52336891]]\n",
      "\n",
      " [[ 0.          0.          0.          0.          0.        ]\n",
      "  [ 0.          0.          0.          0.          0.        ]\n",
      "  [ 0.          0.          0.          0.          0.        ]\n",
      "  [ 0.          0.          0.          0.          0.        ]]\n",
      "\n",
      " [[-0.42277986  0.46188955 -0.02700257  0.03541984 -0.26076143]\n",
      "  [-0.22176494  0.19505836 -0.67948596 -0.10329415 -0.31960315]\n",
      "  [-0.47980609 -0.33113019  0.65828711  0.75146488 -0.3916114 ]\n",
      "  [-0.18519699  0.19704009  0.24007411  0.23161461 -0.83997678]]]\n"
     ]
    }
   ],
   "source": [
    "# Subtract elements of x from elements of y\n",
    "print(np.subtract(y, x))"
   ]
  },
  {
   "cell_type": "code",
   "execution_count": 27,
   "metadata": {},
   "outputs": [
    {
     "name": "stdout",
     "output_type": "stream",
     "text": [
      "[[[0.44377062 0.16689619 0.23886284 0.14533261 0.04572166]\n",
      "  [0.01995264 0.21771076 0.12429155 0.33126694 0.41662565]\n",
      "  [0.20143958 0.00547816 0.54859774 0.04135197 0.09580061]\n",
      "  [0.55220654 0.11181597 0.28216103 0.34717861 0.02987292]]\n",
      "\n",
      " [[0.28498614 0.56574116 0.08172473 0.28615188 0.0264391 ]\n",
      "  [0.00183526 0.06003093 0.0634777  0.71888864 0.34909161]\n",
      "  [0.06166641 0.00358864 0.72572759 0.82362113 0.01192352]\n",
      "  [0.39236092 0.1373731  0.65040904 0.47316535 0.00269634]]\n",
      "\n",
      " [[0.51068333 0.2183274  0.0894441  0.26720469 0.06883919]\n",
      "  [0.01133565 0.01223927 0.23467269 0.80646896 0.53792585]\n",
      "  [0.18081533 0.02342509 0.16493513 0.14163989 0.05468548]\n",
      "  [0.50836595 0.0643424  0.45679422 0.31384458 0.04631318]]]\n"
     ]
    }
   ],
   "source": [
    "# Multiply elements of x and y together\n",
    "print(np.multiply(x, y))"
   ]
  },
  {
   "cell_type": "code",
   "execution_count": 28,
   "metadata": {},
   "outputs": [
    {
     "name": "stdout",
     "output_type": "stream",
     "text": [
      "[[[ 0.64219244  3.3897788   0.34214082  1.96894473  0.57826206]\n",
      "  [ 0.09198064  0.27573708  0.5107161   2.17011885  0.83790233]\n",
      "  [ 0.30612858  0.65508143  1.32287749 19.91733534  0.12446184]\n",
      "  [ 0.71053291  1.22856417  2.30509875  1.36288741  0.09026019]]\n",
      "\n",
      " [[ 1.          1.          1.          1.          1.        ]\n",
      "  [ 1.          1.          1.          1.          1.        ]\n",
      "  [ 1.          1.          1.          1.          1.        ]\n",
      "  [ 1.          1.          1.          1.          1.        ]]\n",
      "\n",
      " [[ 0.55804864  2.59125136  0.91369617  1.07090891  0.38407053]\n",
      "  [ 0.16190142  4.90478038  0.2704946   0.89140274  0.6489586 ]\n",
      "  [ 0.34104637  0.15319652  4.40007907  5.81489534  0.21803814]\n",
      "  [ 0.77180803  2.13503221  1.42385568  1.50764228  0.05821961]]]\n"
     ]
    }
   ],
   "source": [
    "# Divide elements of y by elements of x\n",
    "print(np.divide(y, x))"
   ]
  },
  {
   "cell_type": "markdown",
   "metadata": {},
   "source": [
    "This is only the tip of the iceberg. Numpy has many more functions, which you can and should explore. You can read more about them in the [Numpy documentation](https://docs.scipy.org/doc/numpy-1.13.0/reference/routines.math.html). "
   ]
  },
  {
   "cell_type": "code",
   "execution_count": null,
   "metadata": {},
   "outputs": [],
   "source": []
  }
 ],
 "metadata": {
  "kernelspec": {
   "display_name": "Python 3",
   "language": "python",
   "name": "python3"
  },
  "language_info": {
   "codemirror_mode": {
    "name": "ipython",
    "version": 3
   },
   "file_extension": ".py",
   "mimetype": "text/x-python",
   "name": "python",
   "nbconvert_exporter": "python",
   "pygments_lexer": "ipython3",
   "version": "3.8.5"
  }
 },
 "nbformat": 4,
 "nbformat_minor": 2
}
