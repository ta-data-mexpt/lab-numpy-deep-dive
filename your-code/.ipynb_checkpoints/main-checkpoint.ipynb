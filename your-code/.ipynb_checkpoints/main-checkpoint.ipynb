{
 "cells": [
  {
   "cell_type": "code",
   "execution_count": 1,
   "id": "5b3b2ac7",
   "metadata": {},
   "outputs": [],
   "source": [
    "#1. Import the NUMPY package under the name np.\n",
    "\n",
    "import numpy as np"
   ]
  },
  {
   "cell_type": "code",
   "execution_count": 2,
   "id": "bb2882cb",
   "metadata": {},
   "outputs": [
    {
     "data": {
      "text/plain": [
       "'1.21.5'"
      ]
     },
     "execution_count": 2,
     "metadata": {},
     "output_type": "execute_result"
    }
   ],
   "source": [
    "#2. Print the NUMPY version and the configuration.\n",
    "\n",
    "np.__version__"
   ]
  },
  {
   "cell_type": "code",
   "execution_count": 3,
   "id": "996d22eb",
   "metadata": {},
   "outputs": [],
   "source": [
    "#3. Generate a 2x3x5 3-dimensional array with random values. Assign the array to variable \"a\"\n",
    "# Challenge: there are at least three easy ways that use numpy to generate random arrays. How many ways can you find?\n",
    "\n",
    "a = np.random.random((2, 3, 5))"
   ]
  },
  {
   "cell_type": "code",
   "execution_count": 4,
   "id": "fab1ab0f",
   "metadata": {},
   "outputs": [
    {
     "name": "stdout",
     "output_type": "stream",
     "text": [
      "[[[0.38121043 0.56703127 0.38084499 0.18580753 0.05689106]\n",
      "  [0.20934146 0.81618874 0.96163347 0.53336564 0.56598569]\n",
      "  [0.48710471 0.33806323 0.40470018 0.23251128 0.70681748]]\n",
      "\n",
      " [[0.38464464 0.99445381 0.55483121 0.8833168  0.02063467]\n",
      "  [0.12695226 0.79591202 0.82300382 0.82960228 0.1438806 ]\n",
      "  [0.11644177 0.54834536 0.73308011 0.77270352 0.24544114]]]\n"
     ]
    }
   ],
   "source": [
    "#4. Print a.\n",
    "\n",
    "print(a)"
   ]
  },
  {
   "cell_type": "code",
   "execution_count": 5,
   "id": "1987da3f",
   "metadata": {},
   "outputs": [],
   "source": [
    "#5. Create a 5x2x3 3-dimensional array with all values equaling 1.\n",
    "#Assign the array to variable \"b\"\n",
    "\n",
    "b = np.ones((5, 3, 2))"
   ]
  },
  {
   "cell_type": "code",
   "execution_count": 6,
   "id": "497a36df",
   "metadata": {},
   "outputs": [
    {
     "name": "stdout",
     "output_type": "stream",
     "text": [
      "[[[1. 1.]\n",
      "  [1. 1.]\n",
      "  [1. 1.]]\n",
      "\n",
      " [[1. 1.]\n",
      "  [1. 1.]\n",
      "  [1. 1.]]\n",
      "\n",
      " [[1. 1.]\n",
      "  [1. 1.]\n",
      "  [1. 1.]]\n",
      "\n",
      " [[1. 1.]\n",
      "  [1. 1.]\n",
      "  [1. 1.]]\n",
      "\n",
      " [[1. 1.]\n",
      "  [1. 1.]\n",
      "  [1. 1.]]]\n"
     ]
    }
   ],
   "source": [
    "#6. Print b.\n",
    "\n",
    "print(b)"
   ]
  },
  {
   "cell_type": "code",
   "execution_count": 7,
   "id": "b03c0cf3",
   "metadata": {},
   "outputs": [
    {
     "name": "stdout",
     "output_type": "stream",
     "text": [
      "Los arrays tienen el mismo tamaño.\n"
     ]
    }
   ],
   "source": [
    "#7. Do a and b have the same size? How do you prove that in Python code?\n",
    "\n",
    "lista_a = []\n",
    "for i in a:\n",
    "    for j in i:\n",
    "        for k in j:\n",
    "            lista_a.append(k)\n",
    "\n",
    "lista_b = []\n",
    "for i in a:\n",
    "    for j in i:\n",
    "        for k in j:\n",
    "            lista_b.append(k)\n",
    "            \n",
    "if len(lista_a) == len(lista_b):\n",
    "    print(\"Los arrays tienen el mismo tamaño.\")"
   ]
  },
  {
   "cell_type": "code",
   "execution_count": 8,
   "id": "23a2f636",
   "metadata": {},
   "outputs": [
    {
     "name": "stdout",
     "output_type": "stream",
     "text": [
      "No, debido a que los arreglos tienen diferentes formas.\n"
     ]
    }
   ],
   "source": [
    "#8. Are you able to add a and b? Why or why not?\n",
    "\n",
    "try:\n",
    "    a + b\n",
    "except:\n",
    "    print(\"No, debido a que los arreglos tienen diferentes formas.\")"
   ]
  },
  {
   "cell_type": "code",
   "execution_count": 9,
   "id": "fc527206",
   "metadata": {},
   "outputs": [
    {
     "data": {
      "text/plain": [
       "array([[[1., 1., 1., 1., 1.],\n",
       "        [1., 1., 1., 1., 1.],\n",
       "        [1., 1., 1., 1., 1.]],\n",
       "\n",
       "       [[1., 1., 1., 1., 1.],\n",
       "        [1., 1., 1., 1., 1.],\n",
       "        [1., 1., 1., 1., 1.]]])"
      ]
     },
     "execution_count": 9,
     "metadata": {},
     "output_type": "execute_result"
    }
   ],
   "source": [
    "#9. Transpose b so that it has the same structure of a (i.e. become a 2x3x5 array). \n",
    "#   Assign the transposed array to variable \"c\".\n",
    "\n",
    "c = b.transpose()\n",
    "\n",
    "c"
   ]
  },
  {
   "cell_type": "code",
   "execution_count": 10,
   "id": "cc28b7cc",
   "metadata": {},
   "outputs": [],
   "source": [
    "#10. Try to add a and c. Now it should work. Assign the sum to varialbe \"d\". But why does it work now?\n",
    "\n",
    "d = a + c"
   ]
  },
  {
   "cell_type": "code",
   "execution_count": 11,
   "id": "73aeed41",
   "metadata": {},
   "outputs": [
    {
     "name": "stdout",
     "output_type": "stream",
     "text": [
      "[[[0.38121043 0.56703127 0.38084499 0.18580753 0.05689106]\n",
      "  [0.20934146 0.81618874 0.96163347 0.53336564 0.56598569]\n",
      "  [0.48710471 0.33806323 0.40470018 0.23251128 0.70681748]]\n",
      "\n",
      " [[0.38464464 0.99445381 0.55483121 0.8833168  0.02063467]\n",
      "  [0.12695226 0.79591202 0.82300382 0.82960228 0.1438806 ]\n",
      "  [0.11644177 0.54834536 0.73308011 0.77270352 0.24544114]]]\n",
      "[[[1.38121043 1.56703127 1.38084499 1.18580753 1.05689106]\n",
      "  [1.20934146 1.81618874 1.96163347 1.53336564 1.56598569]\n",
      "  [1.48710471 1.33806323 1.40470018 1.23251128 1.70681748]]\n",
      "\n",
      " [[1.38464464 1.99445381 1.55483121 1.8833168  1.02063467]\n",
      "  [1.12695226 1.79591202 1.82300382 1.82960228 1.1438806 ]\n",
      "  [1.11644177 1.54834536 1.73308011 1.77270352 1.24544114]]]\n"
     ]
    }
   ],
   "source": [
    "#11. Print a and d. Notice the difference and relation of the two array in terms of the values? Explain.\n",
    "\n",
    "print(a)\n",
    "print(d)"
   ]
  },
  {
   "cell_type": "code",
   "execution_count": 12,
   "id": "297ccb2f",
   "metadata": {},
   "outputs": [
    {
     "data": {
      "text/plain": [
       "array([[[0.38121043, 0.56703127, 0.38084499, 0.18580753, 0.05689106],\n",
       "        [0.20934146, 0.81618874, 0.96163347, 0.53336564, 0.56598569],\n",
       "        [0.48710471, 0.33806323, 0.40470018, 0.23251128, 0.70681748]],\n",
       "\n",
       "       [[0.38464464, 0.99445381, 0.55483121, 0.8833168 , 0.02063467],\n",
       "        [0.12695226, 0.79591202, 0.82300382, 0.82960228, 0.1438806 ],\n",
       "        [0.11644177, 0.54834536, 0.73308011, 0.77270352, 0.24544114]]])"
      ]
     },
     "execution_count": 12,
     "metadata": {},
     "output_type": "execute_result"
    }
   ],
   "source": [
    "#12. Multiply a and c. Assign the result to e.\n",
    "\n",
    "e = a * c\n",
    "\n",
    "e"
   ]
  },
  {
   "cell_type": "code",
   "execution_count": 13,
   "id": "e5ab0442",
   "metadata": {},
   "outputs": [
    {
     "name": "stdout",
     "output_type": "stream",
     "text": [
      "Variable 'a' es igual a variable 'e'.\n"
     ]
    }
   ],
   "source": [
    "#13. Does e equal to a? Why or why not?\n",
    "\n",
    "if np.array_equal(a , e) == True:\n",
    "    print(\"Variable 'a' es igual a variable 'e'.\")\n",
    "else:\n",
    "    print(\"Las variables 'a' y 'e' no son iguales.\")"
   ]
  },
  {
   "cell_type": "code",
   "execution_count": 14,
   "id": "b050f389",
   "metadata": {},
   "outputs": [
    {
     "name": "stdout",
     "output_type": "stream",
     "text": [
      "Max = 1.9944538149844013 , Min = 1.0206346686044472 , Mean = 1.4933580393075359\n"
     ]
    }
   ],
   "source": [
    "#14. Identify the max, min, and mean values in d. Assign those values to variables \"d_max\", \"d_min\", and \"d_mean\"\n",
    "\n",
    "d_max = np.max(d)\n",
    "d_min = np.min(d)\n",
    "d_mean = np.mean(d)\n",
    "\n",
    "print('Max =', d_max, ', ''Min =', d_min, ', ''Mean =', d_mean)"
   ]
  },
  {
   "cell_type": "code",
   "execution_count": 15,
   "id": "2c05ff35",
   "metadata": {},
   "outputs": [
    {
     "data": {
      "text/plain": [
       "array([[[0.38121043, 0.56703127, 0.38084499, 0.18580753, 0.05689106],\n",
       "        [0.20934146, 0.81618874, 0.96163347, 0.53336564, 0.56598569],\n",
       "        [0.48710471, 0.33806323, 0.40470018, 0.23251128, 0.70681748]],\n",
       "\n",
       "       [[0.38464464, 0.99445381, 0.55483121, 0.8833168 , 0.02063467],\n",
       "        [0.12695226, 0.79591202, 0.82300382, 0.82960228, 0.1438806 ],\n",
       "        [0.11644177, 0.54834536, 0.73308011, 0.77270352, 0.24544114]]])"
      ]
     },
     "execution_count": 15,
     "metadata": {},
     "output_type": "execute_result"
    }
   ],
   "source": [
    "#15. Now we want to label the values in d. \n",
    "#    First create an empty array \"f\" with the same shape (i.e. 2x3x5) as d using `np.empty`.\n",
    "\n",
    "f = np.empty((2, 3, 5))\n",
    "f"
   ]
  },
  {
   "cell_type": "code",
   "execution_count": 16,
   "id": "8100c7a8",
   "metadata": {},
   "outputs": [
    {
     "data": {
      "text/plain": [
       "[1.38121043345352,\n",
       " 1.5670312717276322,\n",
       " 1.3808449915977912,\n",
       " 1.1858075314439145,\n",
       " 1.0568910568708145,\n",
       " 1.2093414641474762,\n",
       " 1.8161887351920871,\n",
       " 1.9616334725555487,\n",
       " 1.5333656394933781,\n",
       " 1.565985694593936,\n",
       " 1.487104712930926,\n",
       " 1.338063227861643,\n",
       " 1.4047001838464643,\n",
       " 1.2325112794938962,\n",
       " 1.706817480427548,\n",
       " 1.3846446428940193,\n",
       " 1.9944538149844013,\n",
       " 1.5548312071875001,\n",
       " 1.8833168017051851,\n",
       " 1.0206346686044472,\n",
       " 1.126952258018067,\n",
       " 1.7959120237912245,\n",
       " 1.8230038229610979,\n",
       " 1.8296022759304154,\n",
       " 1.1438806008274096,\n",
       " 1.1164417659047081,\n",
       " 1.548345355840285,\n",
       " 1.7330801055498157,\n",
       " 1.7727035154402402,\n",
       " 1.2454411439506807]"
      ]
     },
     "execution_count": 16,
     "metadata": {},
     "output_type": "execute_result"
    }
   ],
   "source": [
    "#16. Populate the values in f. For each value in d, if it's larger than d_min but smaller than d_mean, assign 25 to the corresponding value in f.\n",
    "#    If a value in d is larger than d_mean but smaller than d_max, assign 75 to the corresponding value in f.\n",
    "#    If a value equals to d_mean, assign 50 to the corresponding value in f.\n",
    "#    Assign 0 to the corresponding value(s) in f for d_min in d.\n",
    "#    Assign 100 to the corresponding value(s) in f for d_max in d.\n",
    "#    In the end, f should have only the following values: 0, 25, 50, 75, and 100.\n",
    "#    Note: you don't have to use Numpy in this question.\n",
    "\n",
    "d_values = []\n",
    "\n",
    "for value in d:\n",
    "    for i in value:\n",
    "        for j in i:\n",
    "            d_values.append(j)\n",
    "\n",
    "d_values"
   ]
  },
  {
   "cell_type": "code",
   "execution_count": 17,
   "id": "d3ac0b05",
   "metadata": {
    "scrolled": true
   },
   "outputs": [
    {
     "data": {
      "text/plain": [
       "[25,\n",
       " 75,\n",
       " 25,\n",
       " 25,\n",
       " 25,\n",
       " 25,\n",
       " 75,\n",
       " 75,\n",
       " 75,\n",
       " 75,\n",
       " 25,\n",
       " 25,\n",
       " 25,\n",
       " 25,\n",
       " 75,\n",
       " 25,\n",
       " 100,\n",
       " 75,\n",
       " 75,\n",
       " 0,\n",
       " 25,\n",
       " 75,\n",
       " 75,\n",
       " 75,\n",
       " 25,\n",
       " 25,\n",
       " 75,\n",
       " 75,\n",
       " 75,\n",
       " 25]"
      ]
     },
     "execution_count": 17,
     "metadata": {},
     "output_type": "execute_result"
    }
   ],
   "source": [
    "new_f = []\n",
    "\n",
    "for value in d_values:\n",
    "        if d_min < value < d_mean:\n",
    "                new_f.append(25)\n",
    "        elif d_mean < value < d_max:\n",
    "                new_f.append(75)\n",
    "        elif value == d_mean:\n",
    "                new_f.append(50)\n",
    "        elif value == d_min:\n",
    "                new_f.append(0)\n",
    "        elif value == d_max:\n",
    "                new_f.append(100)\n",
    "                \n",
    "new_f"
   ]
  },
  {
   "cell_type": "code",
   "execution_count": 18,
   "id": "235618e0",
   "metadata": {},
   "outputs": [
    {
     "name": "stdout",
     "output_type": "stream",
     "text": [
      "[[[ 25  75  25  25  25]\n",
      "  [ 25  75  75  75  75]\n",
      "  [ 25  25  25  25  75]]\n",
      "\n",
      " [[ 25 100  75  75   0]\n",
      "  [ 25  75  75  75  25]\n",
      "  [ 25  75  75  75  25]]]\n",
      "[[[1.38121043 1.56703127 1.38084499 1.18580753 1.05689106]\n",
      "  [1.20934146 1.81618874 1.96163347 1.53336564 1.56598569]\n",
      "  [1.48710471 1.33806323 1.40470018 1.23251128 1.70681748]]\n",
      "\n",
      " [[1.38464464 1.99445381 1.55483121 1.8833168  1.02063467]\n",
      "  [1.12695226 1.79591202 1.82300382 1.82960228 1.1438806 ]\n",
      "  [1.11644177 1.54834536 1.73308011 1.77270352 1.24544114]]]\n"
     ]
    }
   ],
   "source": [
    "f = np.array(new_f)\n",
    "f = f.reshape(2, 3, 5)\n",
    "\n",
    "print(f)\n",
    "print(d)"
   ]
  },
  {
   "cell_type": "code",
   "execution_count": 19,
   "id": "a1b52702",
   "metadata": {},
   "outputs": [
    {
     "name": "stdout",
     "output_type": "stream",
     "text": [
      "It is as expected.\n"
     ]
    }
   ],
   "source": [
    "#17. Print d and f. Do you have your expected f?\n",
    "#    For instance, if your d is:\n",
    "# array([[[1.85836099, 1.67064465, 1.62576044, 1.40243961, 1.88454931],\n",
    "#        [1.75354326, 1.69403643, 1.36729252, 1.61415071, 1.12104981],\n",
    "#        [1.72201435, 1.1862918 , 1.87078449, 1.7726778 , 1.88180042]],\n",
    "\n",
    "#       [[1.44747908, 1.31673383, 1.02000951, 1.52218947, 1.97066381],\n",
    "#        [1.79129243, 1.74983003, 1.96028037, 1.85166831, 1.65450881],\n",
    "#        [1.18068344, 1.9587381 , 1.00656599, 1.93402165, 1.73514584]]])\n",
    "\n",
    "#    Your f should be:\n",
    "# array([[[ 75.,  75.,  75.,  25.,  75.],\n",
    "#       [ 75.,  75.,  25.,  25.,  25.],\n",
    "#       [ 75.,  25.,  75.,  75.,  75.]],\n",
    "\n",
    "#       [[ 25.,  25.,  25.,  25., 100.],\n",
    "#        [ 75.,  75.,  75.,  75.,  75.],\n",
    "#        [ 25.,  75.,   0.,  75.,  75.]]])\n",
    "\n",
    "print(\"It is as expected.\")"
   ]
  },
  {
   "cell_type": "code",
   "execution_count": 20,
   "id": "f167cb9f",
   "metadata": {},
   "outputs": [],
   "source": [
    "# 18. Bonus question: instead of using numbers (i.e. 0, 25, 50, 75, and 100), how to use string values \n",
    "# (\"A\", \"B\", \"C\", \"D\", and \"E\") to label the array elements? You are expecting the result to be:\n",
    "# array([[[ 'D',  'D',  'D',  'B',  'D'],\n",
    "#        [ 'D',  'D',  'B',  'B',  'B'],\n",
    "#        [ 'D',  'B',  'D',  'D',  'D']],\n",
    "\n",
    "#       [[ 'B',  'B',  'B',  'B',  'E'],\n",
    "#        [ 'D',  'D',  'D',  'D',  'D'],\n",
    "#        [ 'B',  'D',   'A',  'D', 'D']]])\n",
    "# Again, you don't need Numpy in this question."
   ]
  },
  {
   "cell_type": "markdown",
   "id": "21659da6",
   "metadata": {},
   "source": [
    "___________________________________________________________________________________________________________________________"
   ]
  }
 ],
 "metadata": {
  "kernelspec": {
   "display_name": "Python 3 (ipykernel)",
   "language": "python",
   "name": "python3"
  },
  "language_info": {
   "codemirror_mode": {
    "name": "ipython",
    "version": 3
   },
   "file_extension": ".py",
   "mimetype": "text/x-python",
   "name": "python",
   "nbconvert_exporter": "python",
   "pygments_lexer": "ipython3",
   "version": "3.9.12"
  }
 },
 "nbformat": 4,
 "nbformat_minor": 5
}
