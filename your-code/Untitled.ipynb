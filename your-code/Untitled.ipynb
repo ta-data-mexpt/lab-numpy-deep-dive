{
 "cells": [
  {
   "cell_type": "code",
   "execution_count": 4,
   "id": "8ffb1b67-b81d-4c20-b6ac-b78733cc80a6",
   "metadata": {},
   "outputs": [
    {
     "name": "stdout",
     "output_type": "stream",
     "text": [
      "[[[0.89481417 0.8232678  0.16546425 0.72676872 0.92919774]\n",
      "  [0.87857597 0.91444131 0.49712057 0.84985716 0.12270634]\n",
      "  [0.68632607 0.32221623 0.05781639 0.9657331  0.51181919]]\n",
      "\n",
      " [[0.7909546  0.83401766 0.56467155 0.73819258 0.14409614]\n",
      "  [0.83605082 0.04072362 0.36388086 0.00508581 0.31527312]\n",
      "  [0.65634293 0.35427067 0.12162896 0.42495085 0.5965276 ]]]\n"
     ]
    }
   ],
   "source": [
    "import numpy as np\n",
    "a = np.random.random((2,3,5))\n",
    "print(a)"
   ]
  },
  {
   "cell_type": "code",
   "execution_count": 12,
   "id": "35571e06-951e-4b86-9f18-a6b528645e6d",
   "metadata": {},
   "outputs": [
    {
     "name": "stdout",
     "output_type": "stream",
     "text": [
      "[[[6 2 2 8 3]\n",
      "  [1 8 8 8 3]\n",
      "  [9 9 4 5 4]]\n",
      "\n",
      " [[2 9 8 6 6]\n",
      "  [2 4 2 1 7]\n",
      "  [1 6 2 3 4]]]\n"
     ]
    }
   ],
   "source": [
    "b = np.random.randint(1,10, size =(2,3,5))\n",
    "print(b)"
   ]
  },
  {
   "cell_type": "code",
   "execution_count": 13,
   "id": "52c47917-9e88-49e5-917f-fadf9251d02f",
   "metadata": {},
   "outputs": [
    {
     "name": "stdout",
     "output_type": "stream",
     "text": [
      "[[[0.9381701  0.45795264 0.8553768  0.16675013 0.33085935]\n",
      "  [0.15225428 0.35500491 0.44672331 0.20295368 0.16106835]\n",
      "  [0.56921031 0.2468894  0.8497028  0.47971418 0.2428872 ]]\n",
      "\n",
      " [[0.25113501 0.86300931 0.43135013 0.57729749 0.49683982]\n",
      "  [0.31398778 0.09636733 0.15513722 0.03519217 0.47998138]\n",
      "  [0.96850278 0.518401   0.48907263 0.26242875 0.45937476]]]\n"
     ]
    }
   ],
   "source": [
    "c = np.random.rand(2,3,5)\n",
    "print(c)"
   ]
  },
  {
   "cell_type": "code",
   "execution_count": 17,
   "id": "8252db18-949b-4cbd-b0d9-e1701e550c35",
   "metadata": {},
   "outputs": [
    {
     "name": "stdout",
     "output_type": "stream",
     "text": [
      "[[[1 1 1]\n",
      "  [1 1 1]]\n",
      "\n",
      " [[1 1 1]\n",
      "  [1 1 1]]\n",
      "\n",
      " [[1 1 1]\n",
      "  [1 1 1]]\n",
      "\n",
      " [[1 1 1]\n",
      "  [1 1 1]]\n",
      "\n",
      " [[1 1 1]\n",
      "  [1 1 1]]]\n"
     ]
    }
   ],
   "source": [
    "#5x2x3\n",
    "\n",
    "b = np.random.randint(1,2, size =(5,2,3))\n",
    "print(b)"
   ]
  },
  {
   "cell_type": "code",
   "execution_count": 19,
   "id": "50a9914a-b72f-437e-8dcf-4ecd9b4b0b59",
   "metadata": {},
   "outputs": [
    {
     "name": "stdout",
     "output_type": "stream",
     "text": [
      "[[[1. 1. 1.]\n",
      "  [1. 1. 1.]]\n",
      "\n",
      " [[1. 1. 1.]\n",
      "  [1. 1. 1.]]\n",
      "\n",
      " [[1. 1. 1.]\n",
      "  [1. 1. 1.]]\n",
      "\n",
      " [[1. 1. 1.]\n",
      "  [1. 1. 1.]]\n",
      "\n",
      " [[1. 1. 1.]\n",
      "  [1. 1. 1.]]]\n"
     ]
    }
   ],
   "source": [
    "c = np.ones((5,2,3))\n",
    "\n",
    "print(c)"
   ]
  },
  {
   "cell_type": "code",
   "execution_count": 57,
   "id": "6713d7c3-eacf-47ee-8058-1770a4b6afa5",
   "metadata": {},
   "outputs": [
    {
     "name": "stdout",
     "output_type": "stream",
     "text": [
      "size 30\n",
      "shape (2, 3, 5)\n"
     ]
    }
   ],
   "source": [
    "print('size',np.size(a))\n",
    "print('shape',np.shape(a))\n"
   ]
  },
  {
   "cell_type": "code",
   "execution_count": 58,
   "id": "5836842c-b7ab-403b-860e-812979117581",
   "metadata": {},
   "outputs": [
    {
     "name": "stdout",
     "output_type": "stream",
     "text": [
      "size 30\n",
      "shape (5, 2, 3)\n"
     ]
    }
   ],
   "source": [
    "print('size',np.size(b))\n",
    "print('shape',np.shape(b))\n"
   ]
  },
  {
   "cell_type": "code",
   "execution_count": 51,
   "id": "afa74348-b6eb-491d-bc9f-b1c9b66a56bd",
   "metadata": {},
   "outputs": [
    {
     "name": "stdout",
     "output_type": "stream",
     "text": [
      "[[[3 2 6 1 8]\n",
      "  [2 1 2 7 2]\n",
      "  [5 3 3 7 6]]\n",
      "\n",
      " [[8 1 9 2 3]\n",
      "  [5 5 9 1 1]\n",
      "  [3 2 9 1 9]]]\n",
      "[[[1. 1. 1. 1. 1.]\n",
      "  [1. 1. 1. 1. 1.]\n",
      "  [1. 1. 1. 1. 1.]]\n",
      "\n",
      " [[1. 1. 1. 1. 1.]\n",
      "  [1. 1. 1. 1. 1.]\n",
      "  [1. 1. 1. 1. 1.]]]\n",
      "matriz a y c , ya tiene la misma estructura de 2,3,5\n",
      "[[[ 4.  3.  7.  2.  9.]\n",
      "  [ 3.  2.  3.  8.  3.]\n",
      "  [ 6.  4.  4.  8.  7.]]\n",
      "\n",
      " [[ 9.  2. 10.  3.  4.]\n",
      "  [ 6.  6. 10.  2.  2.]\n",
      "  [ 4.  3. 10.  2. 10.]]]\n",
      "[[[3. 2. 6. 1. 8.]\n",
      "  [2. 1. 2. 7. 2.]\n",
      "  [5. 3. 3. 7. 6.]]\n",
      "\n",
      " [[8. 1. 9. 2. 3.]\n",
      "  [5. 5. 9. 1. 1.]\n",
      "  [3. 2. 9. 1. 9.]]]\n"
     ]
    }
   ],
   "source": [
    "a = np.random.randint(1,10, size =(2,3,5))\n",
    "print(a)\n",
    "\n",
    "b = np.ones([5,2,3])\n",
    "\n",
    "c = b.reshape(2,3,5)\n",
    "print(c)\n",
    "\n",
    "d = a +c\n",
    "print('matriz a y c , ya tiene la misma estructura de 2,3,5')\n",
    "print(d)\n",
    "\n",
    "e = a*c\n",
    "print(e)"
   ]
  },
  {
   "cell_type": "code",
   "execution_count": 54,
   "id": "ca635fa4-f1b6-487a-812a-e545616174b5",
   "metadata": {},
   "outputs": [
    {
     "name": "stdout",
     "output_type": "stream",
     "text": [
      "2.0\n",
      "10.0\n",
      "5.2\n"
     ]
    }
   ],
   "source": [
    "d_max = np.max(d)\n",
    "d_min = np.min(d)\n",
    "d_mean = np.mean(d)\n",
    "print(d_min)\n",
    "print(d_max)\n",
    "print(d_mean)"
   ]
  },
  {
   "cell_type": "code",
   "execution_count": 55,
   "id": "ffe9693b-50ec-47eb-bb7a-b2daff47ea39",
   "metadata": {},
   "outputs": [
    {
     "name": "stdout",
     "output_type": "stream",
     "text": [
      "[[[3. 2. 6. 1. 8.]\n",
      "  [2. 1. 2. 7. 2.]\n",
      "  [5. 3. 3. 7. 6.]]\n",
      "\n",
      " [[8. 1. 9. 2. 3.]\n",
      "  [5. 5. 9. 1. 1.]\n",
      "  [3. 2. 9. 1. 9.]]]\n"
     ]
    }
   ],
   "source": [
    "f = np.empty([2,3,5])\n",
    "print(f)"
   ]
  },
  {
   "cell_type": "code",
   "execution_count": 56,
   "id": "ab1de154-d8c5-4537-b2b2-bfb0c55c2895",
   "metadata": {},
   "outputs": [
    {
     "data": {
      "text/plain": [
       "array([[[ 4.,  3.,  7.,  2.,  9.],\n",
       "        [ 3.,  2.,  3.,  8.,  3.],\n",
       "        [ 6.,  4.,  4.,  8.,  7.]],\n",
       "\n",
       "       [[ 9.,  2., 10.,  3.,  4.],\n",
       "        [ 6.,  6., 10.,  2.,  2.],\n",
       "        [ 4.,  3., 10.,  2., 10.]]])"
      ]
     },
     "execution_count": 56,
     "metadata": {},
     "output_type": "execute_result"
    }
   ],
   "source": [
    "d"
   ]
  },
  {
   "cell_type": "code",
   "execution_count": 64,
   "id": "fff95150-cd31-452d-b94b-25953522ebdf",
   "metadata": {},
   "outputs": [
    {
     "ename": "SyntaxError",
     "evalue": "invalid syntax (2791881020.py, line 6)",
     "output_type": "error",
     "traceback": [
      "\u001b[0;36m  Input \u001b[0;32mIn [64]\u001b[0;36m\u001b[0m\n\u001b[0;31m    else f.append(item3)\u001b[0m\n\u001b[0m         ^\u001b[0m\n\u001b[0;31mSyntaxError\u001b[0m\u001b[0;31m:\u001b[0m invalid syntax\n"
     ]
    }
   ],
   "source": [
    "for item in d:\n",
    "    for item2 in item:\n",
    "        for item3 in item2:\n",
    "            if item3 > d_min and item3 <d_mean:\n",
    "                f.append(25)\n",
    "            else f.append(item3)"
   ]
  },
  {
   "cell_type": "code",
   "execution_count": 95,
   "id": "98bf4294-03c1-45fc-9486-849b40f34ae0",
   "metadata": {},
   "outputs": [
    {
     "name": "stdout",
     "output_type": "stream",
     "text": [
      "d_min:\t 2.0\n",
      "d_max:\t 10.0\n",
      "d_mean:\t 5.2\n",
      "\n",
      " [[[ 25  25  75   0  75]\n",
      "  [ 25   0  25  75  25]\n",
      "  [ 75  25  25  75  75]]\n",
      "\n",
      " [[ 75   0 100  25  25]\n",
      "  [ 75  75 100   0   0]\n",
      "  [ 25  25 100   0 100]]] \n",
      "\n",
      " [[[ 4.  3.  7.  2.  9.]\n",
      "  [ 3.  2.  3.  8.  3.]\n",
      "  [ 6.  4.  4.  8.  7.]]\n",
      "\n",
      " [[ 9.  2. 10.  3.  4.]\n",
      "  [ 6.  6. 10.  2.  2.]\n",
      "  [ 4.  3. 10.  2. 10.]]]\n"
     ]
    }
   ],
   "source": [
    "f = np.where((d_mean > d)&(d > d_min), 25, \n",
    "             np.where((d_mean < d)&(d < d_max), 75,\n",
    "                      np.where(d == d_max, 100,\n",
    "                              np.where(d == d_mean, 50, 0)\n",
    "                              )\n",
    "                     )\n",
    "            )\n",
    "print('d_min:\\t',d_min)\n",
    "print('d_max:\\t',d_max)\n",
    "print('d_mean:\\t',d_mean)\n",
    "\n",
    "print('\\n',f,'\\n\\n',d)\n"
   ]
  },
  {
   "cell_type": "code",
   "execution_count": 98,
   "id": "bb92ab42-cd9a-481f-9d44-481ba400153e",
   "metadata": {},
   "outputs": [
    {
     "name": "stdout",
     "output_type": "stream",
     "text": [
      "D1\n",
      " [[[1.85836099, 1.67064465, 1.62576044, 1.40243961, 1.88454931], [1.75354326, 1.69403643, 1.36729252, 1.61415071, 1.12104981], [1.72201435, 1.1862918, 1.87078449, 1.7726778, 1.88180042]], [[1.44747908, 1.31673383, 1.02000951, 1.52218947, 1.97066381], [1.79129243, 1.74983003, 1.96028037, 1.85166831, 1.65450881], [1.18068344, 1.9587381, 1.00656599, 1.93402165, 1.73514584]]]\n",
      "F1:\n",
      " [[[1.85836099 1.67064465 1.62576044 1.40243961 1.88454931]\n",
      "  [1.75354326 1.69403643 1.36729252 1.61415071 1.12104981]\n",
      "  [1.72201435 1.1862918  1.87078449 1.7726778  1.88180042]]\n",
      "\n",
      " [[1.44747908 1.31673383 1.02000951 1.52218947 1.97066381]\n",
      "  [1.79129243 1.74983003 1.96028037 1.85166831 1.65450881]\n",
      "  [1.18068344 1.9587381  1.00656599 1.93402165 1.73514584]]]\n",
      "d_min:\t 1.00656599\n",
      "d_max:\t 1.97066381\n",
      "d_mean:\t 1.6175069086666667\n",
      "F1 ESPERADA EJEMPLO: \n",
      " [[[ 75  75  75  25  75]\n",
      "  [ 75  75  25  25  25]\n",
      "  [ 75  25  75  75  75]]\n",
      "\n",
      " [[ 25  25  25  25 100]\n",
      "  [ 75  75  75  75  75]\n",
      "  [ 25  75   0  75  75]]]\n"
     ]
    }
   ],
   "source": [
    "d1 = ([[[1.85836099, 1.67064465, 1.62576044, 1.40243961, 1.88454931],\n",
    "        [1.75354326, 1.69403643, 1.36729252, 1.61415071, 1.12104981],\n",
    "        [1.72201435, 1.1862918 , 1.87078449, 1.7726778 , 1.88180042]],\n",
    "\n",
    "       [[1.44747908, 1.31673383, 1.02000951, 1.52218947, 1.97066381],\n",
    "        [1.79129243, 1.74983003, 1.96028037, 1.85166831, 1.65450881],\n",
    "        [1.18068344, 1.9587381 , 1.00656599, 1.93402165, 1.73514584]]])\n",
    "\n",
    "print('D1\\n',d1)\n",
    "\n",
    "f1 = np.empty([2,3,5])\n",
    "print('F1:\\n',f1)\n",
    "\n",
    "d1_max = np.max(d1)\n",
    "d1_min = np.min(d1)\n",
    "d1_mean = np.mean(d1)\n",
    "\n",
    "print('d_min:\\t',d1_min)\n",
    "print('d_max:\\t',d1_max)\n",
    "print('d_mean:\\t',d1_mean)\n",
    "\n",
    "f1 = np.where((d1_mean > d1)&(d1 > d1_min), 25, \n",
    "             np.where((d1_mean < d1)&(d1 < d1_max), 75,\n",
    "                      np.where(d1 == d1_max, 100,\n",
    "                              np.where(d1 == d1_mean, 50, 0)\n",
    "                              )\n",
    "                     )\n",
    "            )\n",
    "\n",
    "print('F1 ESPERADA EJEMPLO:','\\n',f1)"
   ]
  },
  {
   "cell_type": "code",
   "execution_count": 99,
   "id": "e926fd38-d174-4e16-91b2-12727448a301",
   "metadata": {},
   "outputs": [
    {
     "name": "stdout",
     "output_type": "stream",
     "text": [
      "\n",
      "#17. Print d and f. Do you have your expected f?\n",
      "For instance, if your d is:\n",
      "array([[[1.85836099, 1.67064465, 1.62576044, 1.40243961, 1.88454931],\n",
      "        [1.75354326, 1.69403643, 1.36729252, 1.61415071, 1.12104981],\n",
      "        [1.72201435, 1.1862918 , 1.87078449, 1.7726778 , 1.88180042]],\n",
      "\n",
      "       [[1.44747908, 1.31673383, 1.02000951, 1.52218947, 1.97066381],\n",
      "        [1.79129243, 1.74983003, 1.96028037, 1.85166831, 1.65450881],\n",
      "        [1.18068344, 1.9587381 , 1.00656599, 1.93402165, 1.73514584]]])\n",
      "\n",
      "Your f should be:\n",
      "array([[[ 75.,  75.,  75.,  25.,  75.],\n",
      "        [ 75.,  75.,  25.,  25.,  25.],\n",
      "        [ 75.,  25.,  75.,  75.,  75.]],\n",
      "\n",
      "       [[ 25.,  25.,  25.,  25., 100.],\n",
      "        [ 75.,  75.,  75.,  75.,  75.],\n",
      "        [ 25.,  75.,   0.,  75.,  75.]]])\n",
      "\n"
     ]
    }
   ],
   "source": [
    "print(\"\"\"\n",
    "#17. Print d and f. Do you have your expected f?\n",
    "For instance, if your d is:\n",
    "array([[[1.85836099, 1.67064465, 1.62576044, 1.40243961, 1.88454931],\n",
    "        [1.75354326, 1.69403643, 1.36729252, 1.61415071, 1.12104981],\n",
    "        [1.72201435, 1.1862918 , 1.87078449, 1.7726778 , 1.88180042]],\n",
    "\n",
    "       [[1.44747908, 1.31673383, 1.02000951, 1.52218947, 1.97066381],\n",
    "        [1.79129243, 1.74983003, 1.96028037, 1.85166831, 1.65450881],\n",
    "        [1.18068344, 1.9587381 , 1.00656599, 1.93402165, 1.73514584]]])\n",
    "\n",
    "Your f should be:\n",
    "array([[[ 75.,  75.,  75.,  25.,  75.],\n",
    "        [ 75.,  75.,  25.,  25.,  25.],\n",
    "        [ 75.,  25.,  75.,  75.,  75.]],\n",
    "\n",
    "       [[ 25.,  25.,  25.,  25., 100.],\n",
    "        [ 75.,  75.,  75.,  75.,  75.],\n",
    "        [ 25.,  75.,   0.,  75.,  75.]]])\n",
    "\"\"\")"
   ]
  },
  {
   "cell_type": "code",
   "execution_count": 104,
   "id": "b08669db-0bf4-4d95-9b8d-351310aee32b",
   "metadata": {},
   "outputs": [
    {
     "name": "stdout",
     "output_type": "stream",
     "text": [
      "PRINT DE EJEMPLO 17 Y 18\n",
      " [[['D' 'D' 'D' 'B' 'D']\n",
      "  ['D' 'D' 'B' 'B' 'B']\n",
      "  ['D' 'B' 'D' 'D' 'D']]\n",
      "\n",
      " [['B' 'B' 'B' 'B' 'E']\n",
      "  ['D' 'D' 'D' 'D' 'D']\n",
      "  ['B' 'D' 'A' 'D' 'D']]]\n"
     ]
    }
   ],
   "source": [
    "f2 = np.empty([2,3,5])\n",
    "\n",
    "f2 = np.where((d1_mean > d1)&(d1 > d1_min), 'B', \n",
    "             np.where((d1_mean < d1)&(d1 < d1_max), 'D',\n",
    "                      np.where(d1 == d1_max, 'E',\n",
    "                              np.where(d1 == d1_mean, 'C', 'A')\n",
    "                              )\n",
    "                     )\n",
    "            )\n",
    "                               \n",
    "print('PRINT DE EJEMPLO 17 Y 18\\n',f2)"
   ]
  },
  {
   "cell_type": "code",
   "execution_count": null,
   "id": "28ab5535-d5cf-4ccd-8089-348de7558f0b",
   "metadata": {},
   "outputs": [],
   "source": [
    "array([[[ 'D',  'D',  'D',  'B',  'D'],\n",
    "        [ 'D',  'D',  'B',  'B',  'B'],\n",
    "        [ 'D',  'B',  'D',  'D',  'D']],\n",
    "\n",
    "       [[ 'B',  'B',  'B',  'B',  'E'],\n",
    "        [ 'D',  'D',  'D',  'D',  'D'],\n",
    "        [ 'B',  'D',   'A',  'D', 'D']]])"
   ]
  }
 ],
 "metadata": {
  "kernelspec": {
   "display_name": "Python 3 (ipykernel)",
   "language": "python",
   "name": "python3"
  },
  "language_info": {
   "codemirror_mode": {
    "name": "ipython",
    "version": 3
   },
   "file_extension": ".py",
   "mimetype": "text/x-python",
   "name": "python",
   "nbconvert_exporter": "python",
   "pygments_lexer": "ipython3",
   "version": "3.9.12"
  }
 },
 "nbformat": 4,
 "nbformat_minor": 5
}
