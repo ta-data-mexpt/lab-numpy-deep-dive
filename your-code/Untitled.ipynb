{
 "cells": [
  {
   "cell_type": "code",
   "execution_count": 4,
   "id": "6b7370eb-cdcb-4470-8b76-b94bd5d42bf0",
   "metadata": {},
   "outputs": [],
   "source": [
    "#1. Import the NUMPY package under the name np.\n",
    "import numpy as np"
   ]
  },
  {
   "cell_type": "code",
   "execution_count": 7,
   "id": "bd903842-6a54-437b-adf9-ffaeb64e439f",
   "metadata": {},
   "outputs": [
    {
     "name": "stdout",
     "output_type": "stream",
     "text": [
      "1.21.2\n"
     ]
    }
   ],
   "source": [
    "#2. Print the NUMPY version and the configuration.\n",
    "print(np.__version__)"
   ]
  },
  {
   "cell_type": "code",
   "execution_count": 82,
   "id": "cebd0cf8-f0a3-45e7-953a-95bb988c741e",
   "metadata": {},
   "outputs": [],
   "source": [
    "#3. Generate a 2x3x5 3-dimensional array with random values. Assign the array to variable \"a\"\n",
    "# Challenge: there are at least three easy ways that use numpy to generate random arrays. How many ways can you find?\n",
    "a= np.random.random((2,3,5))\n"
   ]
  },
  {
   "cell_type": "code",
   "execution_count": 83,
   "id": "45082a17-29d8-44a3-bb38-9acdb7346d98",
   "metadata": {},
   "outputs": [
    {
     "name": "stdout",
     "output_type": "stream",
     "text": [
      "[[[0.72338693 0.53681583 0.83288232 0.01665714 0.13286795]\n",
      "  [0.84023085 0.62375665 0.65764074 0.23518552 0.48974744]\n",
      "  [0.56620855 0.8027896  0.4710776  0.73136086 0.29454315]]\n",
      "\n",
      " [[0.01097347 0.08647883 0.94306489 0.00220362 0.68400928]\n",
      "  [0.04580086 0.35909794 0.66364167 0.249146   0.86858029]\n",
      "  [0.91020944 0.51424145 0.59611173 0.98075819 0.5231338 ]]]\n"
     ]
    }
   ],
   "source": [
    "#4. Print a.\n",
    "print(a)"
   ]
  },
  {
   "cell_type": "code",
   "execution_count": null,
   "id": "26c3a30b-1ef6-4ac7-8c6e-8de01ba2ed68",
   "metadata": {},
   "outputs": [],
   "source": [
    "#5. Create a 5x2x3 3-dimensional array with all values equaling 1.\n",
    "#Assign the array to variable \"b\""
   ]
  },
  {
   "cell_type": "code",
   "execution_count": 84,
   "id": "f8c7e939-94bc-496e-8f29-209286c1fd87",
   "metadata": {},
   "outputs": [
    {
     "name": "stdout",
     "output_type": "stream",
     "text": [
      "[[[1. 1. 1.]\n",
      "  [1. 1. 1.]]\n",
      "\n",
      " [[1. 1. 1.]\n",
      "  [1. 1. 1.]]\n",
      "\n",
      " [[1. 1. 1.]\n",
      "  [1. 1. 1.]]\n",
      "\n",
      " [[1. 1. 1.]\n",
      "  [1. 1. 1.]]\n",
      "\n",
      " [[1. 1. 1.]\n",
      "  [1. 1. 1.]]]\n"
     ]
    }
   ],
   "source": [
    "b = np.ones((5,2,3))\n",
    "print(b)\n",
    "# b=np.zeros((5,2,3))"
   ]
  },
  {
   "cell_type": "code",
   "execution_count": 46,
   "id": "737f3b68-7928-4dc7-a926-b84c18e8cf7b",
   "metadata": {},
   "outputs": [
    {
     "name": "stdout",
     "output_type": "stream",
     "text": [
      "False\n"
     ]
    }
   ],
   "source": [
    "#7. Do a and b have the same size? How do you prove that in Python code?\n",
    "print(np.array_equal(a,b))"
   ]
  },
  {
   "cell_type": "code",
   "execution_count": 49,
   "id": "77133ac4-999d-4e0c-93e3-834063efe7e0",
   "metadata": {},
   "outputs": [],
   "source": [
    "#8. Are you able to add a and b? Why or why not?\n",
    "# d = np.concatenate((a, b))     Not possible becase the array dimensions are different"
   ]
  },
  {
   "cell_type": "code",
   "execution_count": 85,
   "id": "7e61e780-84fa-4014-8dec-a76258d08be5",
   "metadata": {},
   "outputs": [
    {
     "name": "stdout",
     "output_type": "stream",
     "text": [
      "[[[1. 1. 1. 1. 1.]\n",
      "  [1. 1. 1. 1. 1.]\n",
      "  [1. 1. 1. 1. 1.]]\n",
      "\n",
      " [[1. 1. 1. 1. 1.]\n",
      "  [1. 1. 1. 1. 1.]\n",
      "  [1. 1. 1. 1. 1.]]]\n"
     ]
    }
   ],
   "source": [
    "#9. Transpose b so that it has the same structure of a (i.e. become a 2x3x5 array). Assign the transposed array to varialbe \"c\".\n",
    "c = np.transpose(b,(1,2,0))\n",
    "print(c)\n",
    "\n",
    "\n",
    "\n"
   ]
  },
  {
   "cell_type": "code",
   "execution_count": 86,
   "id": "528f0c75-2166-44ac-836a-a851c7f8ce8c",
   "metadata": {},
   "outputs": [],
   "source": [
    "#10. Try to add a and c. Now it should work. Assign the sum to varialbe \"d\". But why does it work now?\n",
    "d = a + c"
   ]
  },
  {
   "cell_type": "code",
   "execution_count": 87,
   "id": "c493c1d1-b0fb-45b9-a671-e94c06cca4d1",
   "metadata": {},
   "outputs": [
    {
     "data": {
      "text/plain": [
       "array([[[1.72338693, 1.53681583, 1.83288232, 1.01665714, 1.13286795],\n",
       "        [1.84023085, 1.62375665, 1.65764074, 1.23518552, 1.48974744],\n",
       "        [1.56620855, 1.8027896 , 1.4710776 , 1.73136086, 1.29454315]],\n",
       "\n",
       "       [[1.01097347, 1.08647883, 1.94306489, 1.00220362, 1.68400928],\n",
       "        [1.04580086, 1.35909794, 1.66364167, 1.249146  , 1.86858029],\n",
       "        [1.91020944, 1.51424145, 1.59611173, 1.98075819, 1.5231338 ]]])"
      ]
     },
     "execution_count": 87,
     "metadata": {},
     "output_type": "execute_result"
    }
   ],
   "source": [
    "d"
   ]
  },
  {
   "cell_type": "code",
   "execution_count": 81,
   "id": "c5c58d86-0738-4bbd-9d52-32839b7fff34",
   "metadata": {},
   "outputs": [
    {
     "data": {
      "text/plain": [
       "array([[[0.16818462, 0.78039141, 0.53531993, 0.71345708, 0.38713402],\n",
       "        [0.67048767, 0.76623942, 0.54688915, 0.49190149, 0.01843555],\n",
       "        [0.64360027, 0.5808508 , 0.66146811, 0.21231514, 0.20989774]],\n",
       "\n",
       "       [[0.62364027, 0.9832091 , 0.60864465, 0.48321069, 0.59538896],\n",
       "        [0.70015703, 0.95752307, 0.31064099, 0.7214825 , 0.21472639],\n",
       "        [0.17318232, 0.46258397, 0.25087882, 0.15455238, 0.87378333]]])"
      ]
     },
     "execution_count": 81,
     "metadata": {},
     "output_type": "execute_result"
    }
   ],
   "source": [
    "a"
   ]
  },
  {
   "cell_type": "code",
   "execution_count": 88,
   "id": "0af0ee8d-a829-4f8d-a080-2018183b636d",
   "metadata": {},
   "outputs": [
    {
     "name": "stdout",
     "output_type": "stream",
     "text": [
      "[[[0.72338693 0.53681583 0.83288232 0.01665714 0.13286795]\n",
      "  [0.84023085 0.62375665 0.65764074 0.23518552 0.48974744]\n",
      "  [0.56620855 0.8027896  0.4710776  0.73136086 0.29454315]]\n",
      "\n",
      " [[0.01097347 0.08647883 0.94306489 0.00220362 0.68400928]\n",
      "  [0.04580086 0.35909794 0.66364167 0.249146   0.86858029]\n",
      "  [0.91020944 0.51424145 0.59611173 0.98075819 0.5231338 ]]]\n",
      "[[[1.72338693 1.53681583 1.83288232 1.01665714 1.13286795]\n",
      "  [1.84023085 1.62375665 1.65764074 1.23518552 1.48974744]\n",
      "  [1.56620855 1.8027896  1.4710776  1.73136086 1.29454315]]\n",
      "\n",
      " [[1.01097347 1.08647883 1.94306489 1.00220362 1.68400928]\n",
      "  [1.04580086 1.35909794 1.66364167 1.249146   1.86858029]\n",
      "  [1.91020944 1.51424145 1.59611173 1.98075819 1.5231338 ]]]\n"
     ]
    }
   ],
   "source": [
    "#11. Print a and d. Notice the difference and relation of the two array in terms of the values? Explain.\n",
    "print(a) \n",
    "print(d)\n",
    "\n",
    "#They are different because in \"c\" all observations were equal to 1, so all the observations in \"a\" were added +1\n"
   ]
  },
  {
   "cell_type": "code",
   "execution_count": 90,
   "id": "b8e2cc71-a7fc-49c6-a72b-194f6ee8dc04",
   "metadata": {},
   "outputs": [
    {
     "name": "stdout",
     "output_type": "stream",
     "text": [
      "[[[0.72338693 0.53681583 0.83288232 0.01665714 0.13286795]\n",
      "  [0.84023085 0.62375665 0.65764074 0.23518552 0.48974744]\n",
      "  [0.56620855 0.8027896  0.4710776  0.73136086 0.29454315]]\n",
      "\n",
      " [[0.01097347 0.08647883 0.94306489 0.00220362 0.68400928]\n",
      "  [0.04580086 0.35909794 0.66364167 0.249146   0.86858029]\n",
      "  [0.91020944 0.51424145 0.59611173 0.98075819 0.5231338 ]]]\n"
     ]
    }
   ],
   "source": [
    "#12. Multiply a and c. Assign the result to e.\n",
    "e = a*c\n",
    "print(e)"
   ]
  },
  {
   "cell_type": "code",
   "execution_count": 92,
   "id": "6ac2a1cc-9fb0-4cb3-8a66-0f1155d032b2",
   "metadata": {},
   "outputs": [],
   "source": [
    "#13. Does e equal to a? Why or why not?\n",
    "\n",
    "#14. Identify the max, min, and mean values in d. Assign those values to variables \"d_max\", \"d_min\", and \"d_mean\"\n",
    "d_max = np.max(d)\n",
    "d_min = np.min(d)\n",
    "d_mean = np.mean(d)\n",
    "\n",
    "#15. Now we want to label the values in d. First create an empty array \"f\" with the same shape (i.e. 2x3x5) as d using `np.empty`.\n",
    "\n",
    "f = np.empty((2,3,5))"
   ]
  },
  {
   "cell_type": "code",
   "execution_count": 93,
   "id": "8b104333-ec06-42b5-b449-1d62f9303f1b",
   "metadata": {},
   "outputs": [
    {
     "data": {
      "text/plain": [
       "array([[[0.72338693, 0.53681583, 0.83288232, 0.01665714, 0.13286795],\n",
       "        [0.84023085, 0.62375665, 0.65764074, 0.23518552, 0.48974744],\n",
       "        [0.56620855, 0.8027896 , 0.4710776 , 0.73136086, 0.29454315]],\n",
       "\n",
       "       [[0.01097347, 0.08647883, 0.94306489, 0.00220362, 0.68400928],\n",
       "        [0.04580086, 0.35909794, 0.66364167, 0.249146  , 0.86858029],\n",
       "        [0.91020944, 0.51424145, 0.59611173, 0.98075819, 0.5231338 ]]])"
      ]
     },
     "execution_count": 93,
     "metadata": {},
     "output_type": "execute_result"
    }
   ],
   "source": [
    "f"
   ]
  },
  {
   "cell_type": "code",
   "execution_count": null,
   "id": "e97666cd-d5f6-44c1-afae-16e5dfbfcceb",
   "metadata": {},
   "outputs": [],
   "source": []
  }
 ],
 "metadata": {
  "kernelspec": {
   "display_name": "Python 3 (ipykernel)",
   "language": "python",
   "name": "python3"
  },
  "language_info": {
   "codemirror_mode": {
    "name": "ipython",
    "version": 3
   },
   "file_extension": ".py",
   "mimetype": "text/x-python",
   "name": "python",
   "nbconvert_exporter": "python",
   "pygments_lexer": "ipython3",
   "version": "3.9.7"
  }
 },
 "nbformat": 4,
 "nbformat_minor": 5
}
