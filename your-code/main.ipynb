{
 "cells": [
  {
   "cell_type": "raw",
   "id": "14f0242d-1cff-4e5d-a692-9163dccb8f70",
   "metadata": {},
   "source": [
    "#1. Import the NUMPY package under the name np."
   ]
  },
  {
   "cell_type": "code",
   "execution_count": 2,
   "id": "a200628b-f988-4e8c-819b-38e4ae4c70d9",
   "metadata": {},
   "outputs": [],
   "source": [
    "import numpy as np"
   ]
  },
  {
   "cell_type": "raw",
   "id": "39a2b81d-b58d-4e4c-90b5-812c066c1b3a",
   "metadata": {},
   "source": [
    "#2. Print the NUMPY version and the configuration."
   ]
  },
  {
   "cell_type": "code",
   "execution_count": 3,
   "id": "717f92ce-bbcb-4305-a4f4-186f3309f135",
   "metadata": {},
   "outputs": [
    {
     "name": "stdout",
     "output_type": "stream",
     "text": [
      "1.21.5\n",
      "blas_mkl_info:\n",
      "    libraries = ['mkl_rt', 'pthread']\n",
      "    library_dirs = ['/opt/anaconda3/lib']\n",
      "    define_macros = [('SCIPY_MKL_H', None), ('HAVE_CBLAS', None)]\n",
      "    include_dirs = ['/opt/anaconda3/include']\n",
      "blas_opt_info:\n",
      "    libraries = ['mkl_rt', 'pthread']\n",
      "    library_dirs = ['/opt/anaconda3/lib']\n",
      "    define_macros = [('SCIPY_MKL_H', None), ('HAVE_CBLAS', None)]\n",
      "    include_dirs = ['/opt/anaconda3/include']\n",
      "lapack_mkl_info:\n",
      "    libraries = ['mkl_rt', 'pthread']\n",
      "    library_dirs = ['/opt/anaconda3/lib']\n",
      "    define_macros = [('SCIPY_MKL_H', None), ('HAVE_CBLAS', None)]\n",
      "    include_dirs = ['/opt/anaconda3/include']\n",
      "lapack_opt_info:\n",
      "    libraries = ['mkl_rt', 'pthread']\n",
      "    library_dirs = ['/opt/anaconda3/lib']\n",
      "    define_macros = [('SCIPY_MKL_H', None), ('HAVE_CBLAS', None)]\n",
      "    include_dirs = ['/opt/anaconda3/include']\n",
      "Supported SIMD extensions in this NumPy install:\n",
      "    baseline = SSE,SSE2,SSE3\n",
      "    found = SSSE3,SSE41,POPCNT,SSE42,AVX,F16C,FMA3,AVX2\n",
      "    not found = AVX512F,AVX512CD,AVX512_KNL,AVX512_SKX,AVX512_CLX,AVX512_CNL,AVX512_ICL\n",
      "None\n"
     ]
    }
   ],
   "source": [
    "print(np.__version__)\n",
    "print(np.show_config())"
   ]
  },
  {
   "cell_type": "raw",
   "id": "f21c9b56-f1eb-460f-a5f3-a40ee7cf1a0d",
   "metadata": {},
   "source": [
    "#3. Generate a 2x3x5 3-dimensional array with random values. Assign the array to variable \"a\"\n",
    "# Challenge: there are at least three easy ways that use numpy to generate random arrays. How many ways can you find?\n"
   ]
  },
  {
   "cell_type": "code",
   "execution_count": 5,
   "id": "488545e0-5e5f-42c0-9c07-9dd1a6fc5bc5",
   "metadata": {},
   "outputs": [
    {
     "name": "stdout",
     "output_type": "stream",
     "text": [
      "[[[5 7 1 2 6]\n",
      "  [7 7 5 9 7]\n",
      "  [5 5 3 2 9]]\n",
      "\n",
      " [[6 2 9 7 6]\n",
      "  [3 9 8 7 7]\n",
      "  [7 1 5 3 5]]]\n"
     ]
    }
   ],
   "source": [
    "#forma 1 \n",
    "'''\n",
    "a = np.random.random((2,3,5))\n",
    "print(a)'''\n",
    "#forma 2\n",
    "'''\n",
    "c = np.random.rand(2,3,5)\n",
    "print(c)\n",
    "'''\n",
    "#FORMA 3\n",
    "a = np.random.randint(1,10, size =(2,3,5))"
   ]
  },
  {
   "cell_type": "raw",
   "id": "25f53e17-06dc-4a11-9210-2052ee3a02ea",
   "metadata": {},
   "source": [
    "#4. Print a."
   ]
  },
  {
   "cell_type": "code",
   "execution_count": 7,
   "id": "f889fed4-463a-4fcc-8b39-4be6098c891f",
   "metadata": {},
   "outputs": [
    {
     "name": "stdout",
     "output_type": "stream",
     "text": [
      "[[[5 7 1 2 6]\n",
      "  [7 7 5 9 7]\n",
      "  [5 5 3 2 9]]\n",
      "\n",
      " [[6 2 9 7 6]\n",
      "  [3 9 8 7 7]\n",
      "  [7 1 5 3 5]]]\n"
     ]
    }
   ],
   "source": [
    "print(a)"
   ]
  },
  {
   "cell_type": "raw",
   "id": "c08e640b-7af5-498b-8cf9-fecb0f60d0e9",
   "metadata": {},
   "source": [
    "#5. Create a 5x2x3 3-dimensional array with all values equaling 1.\n",
    "#Assign the array to variable \"b\""
   ]
  },
  {
   "cell_type": "code",
   "execution_count": 8,
   "id": "9f7ac2ef-2df9-4bcb-bc04-4503b242d76d",
   "metadata": {},
   "outputs": [],
   "source": [
    "#FORMA 1\n",
    "'''\n",
    "b = np.random.randint(1,2, size =(5,2,3))\n",
    "print(b)\n",
    "'''\n",
    "#FORMA 2\n",
    "b = np.ones((5,2,3))"
   ]
  },
  {
   "cell_type": "raw",
   "id": "50917d5b-1fc5-4743-83ed-8c10d26f23ab",
   "metadata": {},
   "source": [
    "#6. Print b."
   ]
  },
  {
   "cell_type": "code",
   "execution_count": 10,
   "id": "5b906c70-1b5f-4967-80a0-aaa111775a9b",
   "metadata": {},
   "outputs": [
    {
     "name": "stdout",
     "output_type": "stream",
     "text": [
      "[[[1. 1. 1.]\n",
      "  [1. 1. 1.]]\n",
      "\n",
      " [[1. 1. 1.]\n",
      "  [1. 1. 1.]]\n",
      "\n",
      " [[1. 1. 1.]\n",
      "  [1. 1. 1.]]\n",
      "\n",
      " [[1. 1. 1.]\n",
      "  [1. 1. 1.]]\n",
      "\n",
      " [[1. 1. 1.]\n",
      "  [1. 1. 1.]]]\n"
     ]
    }
   ],
   "source": [
    "print(b)"
   ]
  },
  {
   "cell_type": "raw",
   "id": "ec354001-8b59-4e8e-894f-0ab164ce47e6",
   "metadata": {},
   "source": [
    "#7. Do a and b have the same size? How do you prove that in Python code?"
   ]
  },
  {
   "cell_type": "code",
   "execution_count": 12,
   "id": "6fefc471-4cdc-4dab-802a-7d9c1278beff",
   "metadata": {},
   "outputs": [
    {
     "name": "stdout",
     "output_type": "stream",
     "text": [
      "size (a): 30\n",
      "shape (a): (2, 3, 5)\n",
      "size (b): 30\n",
      "shape (b:) (5, 2, 3)\n"
     ]
    }
   ],
   "source": [
    "print('size (a):',np.size(a))\n",
    "print('shape (a):',np.shape(a))\n",
    "\n",
    "print('size (b):',np.size(b))\n",
    "print('shape (b:)',np.shape(b))"
   ]
  },
  {
   "cell_type": "raw",
   "id": "97773a57-b2a9-436b-ab85-c798d98c7e3d",
   "metadata": {},
   "source": [
    "#8. Are you able to add a and b? Why or why not?"
   ]
  },
  {
   "cell_type": "code",
   "execution_count": 13,
   "id": "f9c4c4dd-9d88-49fe-b70e-858f34957478",
   "metadata": {},
   "outputs": [
    {
     "name": "stdout",
     "output_type": "stream",
     "text": [
      "ValueError: operands could not be broadcast together with shapes (2,3,5) (5,2,3) \n",
      "Tiene distinta forma, de contruccion\n"
     ]
    }
   ],
   "source": [
    "print('ValueError: operands could not be broadcast together with shapes (2,3,5) (5,2,3) ')\n",
    "print('Tiene distinta forma, de contruccion')"
   ]
  },
  {
   "cell_type": "raw",
   "id": "83bc59b4-d246-4dff-b0e1-be76be9e4f41",
   "metadata": {},
   "source": [
    "#9. Transpose b so that it has the same structure of a (i.e. become a 2x3x5 array). Assign the transposed array to varialbe \"c\"."
   ]
  },
  {
   "cell_type": "code",
   "execution_count": 14,
   "id": "981066e0-a3b7-4724-aa13-9518c5f47f97",
   "metadata": {},
   "outputs": [
    {
     "name": "stdout",
     "output_type": "stream",
     "text": [
      "[[[1. 1. 1. 1. 1.]\n",
      "  [1. 1. 1. 1. 1.]\n",
      "  [1. 1. 1. 1. 1.]]\n",
      "\n",
      " [[1. 1. 1. 1. 1.]\n",
      "  [1. 1. 1. 1. 1.]\n",
      "  [1. 1. 1. 1. 1.]]]\n"
     ]
    }
   ],
   "source": [
    "c = b.reshape(2,3,5)\n",
    "print(c)"
   ]
  },
  {
   "cell_type": "raw",
   "id": "761658bb-b6de-4aef-932f-896844f1d443",
   "metadata": {},
   "source": [
    "\n",
    "#10. Try to add a and c. Now it should work. Assign the sum to varialbe \"d\". But why does it work now?"
   ]
  },
  {
   "cell_type": "code",
   "execution_count": 15,
   "id": "1d056351-f897-4c1d-8a65-f55dbb4d5996",
   "metadata": {},
   "outputs": [
    {
     "name": "stdout",
     "output_type": "stream",
     "text": [
      "matriz a y c , ya tiene la misma estructura de 2,3,5\n"
     ]
    }
   ],
   "source": [
    "d = a +c\n",
    "print('matriz a y c , ya tiene la misma estructura de 2,3,5')"
   ]
  },
  {
   "cell_type": "raw",
   "id": "5b1f51de-5698-4f25-8937-7b07013bc539",
   "metadata": {},
   "source": [
    "\n",
    "#11. Print a and d. Notice the difference and relation of the two array in terms of the values? Explain."
   ]
  },
  {
   "cell_type": "code",
   "execution_count": 16,
   "id": "082c27bb-8023-4e53-ad52-9e207748b55e",
   "metadata": {},
   "outputs": [
    {
     "name": "stdout",
     "output_type": "stream",
     "text": [
      "[[[ 6.  8.  2.  3.  7.]\n",
      "  [ 8.  8.  6. 10.  8.]\n",
      "  [ 6.  6.  4.  3. 10.]]\n",
      "\n",
      " [[ 7.  3. 10.  8.  7.]\n",
      "  [ 4. 10.  9.  8.  8.]\n",
      "  [ 8.  2.  6.  4.  6.]]]\n"
     ]
    }
   ],
   "source": [
    "print(d)\n"
   ]
  },
  {
   "cell_type": "raw",
   "id": "7e4ecf29-abfc-4082-ae34-7c01b62002dc",
   "metadata": {},
   "source": [
    "#12. Multiply a and c. Assign the result to e.∫"
   ]
  },
  {
   "cell_type": "code",
   "execution_count": 18,
   "id": "72af7471-7440-47e7-a667-c26bc13543ca",
   "metadata": {},
   "outputs": [],
   "source": [
    "e = a*c"
   ]
  },
  {
   "cell_type": "raw",
   "id": "e2d97ce6-3aa1-4bf4-a235-7fe401fa8d07",
   "metadata": {},
   "source": [
    "#13. Does e equal to a? Why or why not?"
   ]
  },
  {
   "cell_type": "code",
   "execution_count": 19,
   "id": "e0586d47-3fe5-4ec7-9c9c-7543bbd6abe2",
   "metadata": {},
   "outputs": [
    {
     "name": "stdout",
     "output_type": "stream",
     "text": [
      "b esta definido por unos , pero flotantes, por lo que al multiplicarse se vuelven valores flotantes en el caso de F\n",
      "[[[5. 7. 1. 2. 6.]\n",
      "  [7. 7. 5. 9. 7.]\n",
      "  [5. 5. 3. 2. 9.]]\n",
      "\n",
      " [[6. 2. 9. 7. 6.]\n",
      "  [3. 9. 8. 7. 7.]\n",
      "  [7. 1. 5. 3. 5.]]]\n"
     ]
    }
   ],
   "source": [
    "print('b esta definido por unos , pero flotantes, por lo que al multiplicarse se vuelven valores flotantes en el caso de F')\n",
    "print(e)\n"
   ]
  },
  {
   "cell_type": "raw",
   "id": "03e1252a-6a35-42d0-80c1-bb404c76feb8",
   "metadata": {},
   "source": [
    "\n",
    "#14. Identify the max, min, and mean values in d. Assign those values to variables \"d_max\", \"d_min\", and \"d_mean\""
   ]
  },
  {
   "cell_type": "code",
   "execution_count": 20,
   "id": "58241723-cc24-411e-a100-7d7cc38c6215",
   "metadata": {},
   "outputs": [
    {
     "name": "stdout",
     "output_type": "stream",
     "text": [
      "d_min:\t 2.0\n",
      "d_max:\t 10.0\n",
      "d_mean:\t 6.5\n"
     ]
    }
   ],
   "source": [
    "d_max = np.max(d)\n",
    "d_min = np.min(d)\n",
    "d_mean = np.mean(d)\n",
    "\n",
    "print('d_min:\\t',d_min)\n",
    "print('d_max:\\t',d_max)\n",
    "print('d_mean:\\t',d_mean)"
   ]
  },
  {
   "cell_type": "raw",
   "id": "ead84ead-13eb-4d8e-a340-07ed1bea7ca8",
   "metadata": {},
   "source": [
    "#15. Now we want to label the values in d. First create an empty array \"f\" with the same shape (i.e. 2x3x5) as d using `np.empty`.\n"
   ]
  },
  {
   "cell_type": "code",
   "execution_count": 22,
   "id": "8dfc7ffc-5e14-4f8b-ac37-065578abe510",
   "metadata": {},
   "outputs": [
    {
     "name": "stdout",
     "output_type": "stream",
     "text": [
      "f np.empty: \n",
      " [[[5. 7. 1. 2. 6.]\n",
      "  [7. 7. 5. 9. 7.]\n",
      "  [5. 5. 3. 2. 9.]]\n",
      "\n",
      " [[6. 2. 9. 7. 6.]\n",
      "  [3. 9. 8. 7. 7.]\n",
      "  [7. 1. 5. 3. 5.]]]\n"
     ]
    }
   ],
   "source": [
    "f = np.empty([2,3,5])\n",
    "print('f np.empty: \\n',f)"
   ]
  },
  {
   "cell_type": "raw",
   "id": "b626421b-df51-44dd-a1c5-e8fb84da8d33",
   "metadata": {},
   "source": [
    "\"\"\"\n",
    "#16. Populate the values in f. For each value in d, if it's larger than d_min but smaller than d_mean, assign 25 to the corresponding value in f.\n",
    "If a value in d is larger than d_mean but smaller than d_max, assign 75 to the corresponding value in f.\n",
    "If a value equals to d_mean, assign 50 to the corresponding value in f.\n",
    "Assign 0 to the corresponding value(s) in f for d_min in d.\n",
    "Assign 100 to the corresponding value(s) in f for d_max in d.\n",
    "In the end, f should have only the following values: 0, 25, 50, 75, and 100.\n",
    "Note: you don't have to use Numpy in this question.\n",
    "\"\"\""
   ]
  },
  {
   "cell_type": "code",
   "execution_count": 23,
   "id": "7b153d96-9d91-42e1-ad91-534fc271c23e",
   "metadata": {},
   "outputs": [
    {
     "name": "stdout",
     "output_type": "stream",
     "text": [
      "F nueva con condiciones \n",
      " de D [[[ 25  75   0  25  75]\n",
      "  [ 75  75  25 100  75]\n",
      "  [ 25  25  25  25 100]]\n",
      "\n",
      " [[ 75  25 100  75  75]\n",
      "  [ 25 100  75  75  75]\n",
      "  [ 75   0  25  25  25]]]\n"
     ]
    }
   ],
   "source": [
    "f = np.where((d_mean > d)&(d > d_min), 25, \n",
    "             np.where((d_mean < d)&(d < d_max), 75,\n",
    "                      np.where(d == d_max, 100,\n",
    "                              np.where(d == d_mean, 50, 0)\n",
    "                              )\n",
    "                     )\n",
    "            )\n",
    "print('F nueva con condiciones \\n de D',f)"
   ]
  },
  {
   "cell_type": "raw",
   "id": "d71af494-24b1-4cc7-9bc3-ee92ba4dd018",
   "metadata": {},
   "source": [
    "\"\"\"\n",
    "#17. Print d and f. Do you have your expected f?\n",
    "For instance, if your d is:\n",
    "array([[[1.85836099, 1.67064465, 1.62576044, 1.40243961, 1.88454931],\n",
    "        [1.75354326, 1.69403643, 1.36729252, 1.61415071, 1.12104981],\n",
    "        [1.72201435, 1.1862918 , 1.87078449, 1.7726778 , 1.88180042]],\n",
    "\n",
    "       [[1.44747908, 1.31673383, 1.02000951, 1.52218947, 1.97066381],\n",
    "        [1.79129243, 1.74983003, 1.96028037, 1.85166831, 1.65450881],\n",
    "        [1.18068344, 1.9587381 , 1.00656599, 1.93402165, 1.73514584]]])\n",
    "\n",
    "Your f should be:\n",
    "array([[[ 75.,  75.,  75.,  25.,  75.],\n",
    "        [ 75.,  75.,  25.,  25.,  25.],\n",
    "        [ 75.,  25.,  75.,  75.,  75.]],\n",
    "\n",
    "       [[ 25.,  25.,  25.,  25., 100.],\n",
    "        [ 75.,  75.,  75.,  75.,  75.],\n",
    "        [ 25.,  75.,   0.,  75.,  75.]]])\n",
    "\"\"\""
   ]
  },
  {
   "cell_type": "code",
   "execution_count": 25,
   "id": "fa0b98aa-866f-4d57-ae37-0319d6e80d43",
   "metadata": {},
   "outputs": [
    {
     "name": "stdout",
     "output_type": "stream",
     "text": [
      "D1\n",
      " [[[1.85836099, 1.67064465, 1.62576044, 1.40243961, 1.88454931], [1.75354326, 1.69403643, 1.36729252, 1.61415071, 1.12104981], [1.72201435, 1.1862918, 1.87078449, 1.7726778, 1.88180042]], [[1.44747908, 1.31673383, 1.02000951, 1.52218947, 1.97066381], [1.79129243, 1.74983003, 1.96028037, 1.85166831, 1.65450881], [1.18068344, 1.9587381, 1.00656599, 1.93402165, 1.73514584]]]\n",
      "F1:\n",
      " [[[5. 7. 1. 2. 6.]\n",
      "  [7. 7. 5. 9. 7.]\n",
      "  [5. 5. 3. 2. 9.]]\n",
      "\n",
      " [[6. 2. 9. 7. 6.]\n",
      "  [3. 9. 8. 7. 7.]\n",
      "  [7. 1. 5. 3. 5.]]]\n",
      "d_min:\t 1.00656599\n",
      "d_max:\t 1.97066381\n",
      "d_mean:\t 1.6175069086666667\n",
      "F1 ESPERADA EJEMPLO: \n",
      " [[[ 75  75  75  25  75]\n",
      "  [ 75  75  25  25  25]\n",
      "  [ 75  25  75  75  75]]\n",
      "\n",
      " [[ 25  25  25  25 100]\n",
      "  [ 75  75  75  75  75]\n",
      "  [ 25  75   0  75  75]]]\n"
     ]
    }
   ],
   "source": [
    "d1 = ([[[1.85836099, 1.67064465, 1.62576044, 1.40243961, 1.88454931],\n",
    "        [1.75354326, 1.69403643, 1.36729252, 1.61415071, 1.12104981],\n",
    "        [1.72201435, 1.1862918 , 1.87078449, 1.7726778 , 1.88180042]],\n",
    "\n",
    "       [[1.44747908, 1.31673383, 1.02000951, 1.52218947, 1.97066381],\n",
    "        [1.79129243, 1.74983003, 1.96028037, 1.85166831, 1.65450881],\n",
    "        [1.18068344, 1.9587381 , 1.00656599, 1.93402165, 1.73514584]]])\n",
    "\n",
    "print('D1\\n',d1)\n",
    "\n",
    "f1 = np.empty([2,3,5])\n",
    "print('F1:\\n',f1)\n",
    "\n",
    "d1_max = np.max(d1)\n",
    "d1_min = np.min(d1)\n",
    "d1_mean = np.mean(d1)\n",
    "\n",
    "print('d_min:\\t',d1_min)\n",
    "print('d_max:\\t',d1_max)\n",
    "print('d_mean:\\t',d1_mean)\n",
    "\n",
    "f1 = np.where((d1_mean > d1)&(d1 > d1_min), 25, \n",
    "             np.where((d1_mean < d1)&(d1 < d1_max), 75,\n",
    "                      np.where(d1 == d1_max, 100,\n",
    "                              np.where(d1 == d1_mean, 50, 0)\n",
    "                              )\n",
    "                     )\n",
    "            )\n",
    "\n",
    "print('F1 ESPERADA EJEMPLO:','\\n',f1)"
   ]
  },
  {
   "cell_type": "raw",
   "id": "46111034-650f-4153-ac96-819db15ffafe",
   "metadata": {},
   "source": [
    "\"\"\"\n",
    "#18. Bonus question: instead of using numbers (i.e. 0, 25, 50, 75, and 100), how to use string values \n",
    "(\"A\", \"B\", \"C\", \"D\", and \"E\") to label the array elements? You are expecting the result to be:\n",
    "array([[[ 'D',  'D',  'D',  'B',  'D'],\n",
    "        [ 'D',  'D',  'B',  'B',  'B'],\n",
    "        [ 'D',  'B',  'D',  'D',  'D']],\n",
    "\n",
    "       [[ 'B',  'B',  'B',  'B',  'E'],\n",
    "        [ 'D',  'D',  'D',  'D',  'D'],\n",
    "        [ 'B',  'D',   'A',  'D', 'D']]])\n",
    "Again, you don't need Numpy in this question.\n",
    "\"\"\""
   ]
  },
  {
   "cell_type": "code",
   "execution_count": 26,
   "id": "c404f587-487d-4a92-a3c7-978a7dbcebf7",
   "metadata": {},
   "outputs": [
    {
     "name": "stdout",
     "output_type": "stream",
     "text": [
      "PRINT DE EJERCICIO PERSONAL: \n",
      " [[[ 25  75   0  25  75]\n",
      "  [ 75  75  25 100  75]\n",
      "  [ 25  25  25  25 100]]\n",
      "\n",
      " [[ 75  25 100  75  75]\n",
      "  [ 25 100  75  75  75]\n",
      "  [ 75   0  25  25  25]]]\n",
      "PRINT DE EJEMPLO 17 Y 18\n",
      " [[['D' 'D' 'D' 'B' 'D']\n",
      "  ['D' 'D' 'B' 'B' 'B']\n",
      "  ['D' 'B' 'D' 'D' 'D']]\n",
      "\n",
      " [['B' 'B' 'B' 'B' 'E']\n",
      "  ['D' 'D' 'D' 'D' 'D']\n",
      "  ['B' 'D' 'A' 'D' 'D']]]\n"
     ]
    }
   ],
   "source": [
    "f1 = np.where((d_mean > d)&(d > d_min), 'B', \n",
    "             np.where((d_mean < d)&(d < d_max), 'D',\n",
    "                      np.where(d == d_max, 'E',\n",
    "                              np.where(d == d_mean, 'C', 'A')\n",
    "                              )\n",
    "                     )\n",
    "            )\n",
    "\n",
    "print('PRINT DE EJERCICIO PERSONAL: \\n',f)\n",
    "\n",
    "\n",
    "f2 = np.empty([2,3,5])\n",
    "\n",
    "f2 = np.where((d1_mean > d1)&(d1 > d1_min), 'B', \n",
    "             np.where((d1_mean < d1)&(d1 < d1_max), 'D',\n",
    "                      np.where(d1 == d1_max, 'E',\n",
    "                              np.where(d1 == d1_mean, 'C', 'A')\n",
    "                              )\n",
    "                     )\n",
    "            )\n",
    "                               \n",
    "print('PRINT DE EJEMPLO 17 Y 18\\n',f2)"
   ]
  },
  {
   "cell_type": "code",
   "execution_count": null,
   "id": "9b3d511e-578f-47d9-967c-3a1f4801dbe3",
   "metadata": {},
   "outputs": [],
   "source": []
  },
  {
   "cell_type": "code",
   "execution_count": null,
   "id": "7c6e77fa-17c4-4b3e-90cb-8a8ffe0ca4bb",
   "metadata": {},
   "outputs": [],
   "source": []
  },
  {
   "cell_type": "code",
   "execution_count": null,
   "id": "3b71f235-b406-41c3-b70e-9aa2c06b12dd",
   "metadata": {},
   "outputs": [],
   "source": []
  },
  {
   "cell_type": "code",
   "execution_count": null,
   "id": "60b09bdf-e002-44e2-bfa5-9286e2393e8c",
   "metadata": {},
   "outputs": [],
   "source": []
  },
  {
   "cell_type": "code",
   "execution_count": null,
   "id": "ecdc255e-d8d7-43f7-8807-25350595127b",
   "metadata": {},
   "outputs": [],
   "source": []
  },
  {
   "cell_type": "code",
   "execution_count": null,
   "id": "5b05448a-73d0-49f9-9756-007bf4b9d517",
   "metadata": {},
   "outputs": [],
   "source": []
  }
 ],
 "metadata": {
  "kernelspec": {
   "display_name": "Python 3 (ipykernel)",
   "language": "python",
   "name": "python3"
  },
  "language_info": {
   "codemirror_mode": {
    "name": "ipython",
    "version": 3
   },
   "file_extension": ".py",
   "mimetype": "text/x-python",
   "name": "python",
   "nbconvert_exporter": "python",
   "pygments_lexer": "ipython3",
   "version": "3.9.12"
  }
 },
 "nbformat": 4,
 "nbformat_minor": 5
}
