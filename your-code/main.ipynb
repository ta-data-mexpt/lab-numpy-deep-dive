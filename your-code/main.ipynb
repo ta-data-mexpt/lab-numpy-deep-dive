{
 "cells": [
  {
   "cell_type": "markdown",
   "id": "78f40514-f941-447d-9354-37f95a5b2df8",
   "metadata": {},
   "source": [
    "#1. Import the NUMPY package under the name np."
   ]
  },
  {
   "cell_type": "code",
   "execution_count": 3,
   "id": "35601850-9b58-40da-9db6-49463adb1acb",
   "metadata": {},
   "outputs": [],
   "source": [
    "import numpy as np"
   ]
  },
  {
   "cell_type": "markdown",
   "id": "170b2a2d-a30b-4a23-ae11-ae7825280b91",
   "metadata": {},
   "source": [
    "\n",
    "#2. Print the NUMPY version and the configuration.\n"
   ]
  },
  {
   "cell_type": "code",
   "execution_count": 5,
   "id": "16dc8571-9ad2-443b-84d0-643151f007af",
   "metadata": {},
   "outputs": [
    {
     "name": "stdout",
     "output_type": "stream",
     "text": [
      "1.21.5\n"
     ]
    }
   ],
   "source": [
    "print(np.__version__)"
   ]
  },
  {
   "cell_type": "markdown",
   "id": "9e0d74e6-2c46-4e72-b20c-8d9168fd5cdc",
   "metadata": {},
   "source": [
    "#3. Generate a 2x3x5 3-dimensional array with random values. Assign the array to variable \"a\"\n",
    "# Challenge: there are at least three easy ways that use numpy to generate random arrays. How many ways can you find?"
   ]
  },
  {
   "cell_type": "code",
   "execution_count": 8,
   "id": "73c6783d-87ab-4d69-99f6-973720fd151c",
   "metadata": {},
   "outputs": [
    {
     "data": {
      "text/plain": [
       "array([[[0.17025875, 0.41141824, 0.32073386, 0.74336145, 0.38359115],\n",
       "        [0.17191069, 0.74072103, 0.50690604, 0.49899863, 0.35176772],\n",
       "        [0.60657751, 0.83619432, 0.41613756, 0.5730882 , 0.63122102]],\n",
       "\n",
       "       [[0.90189754, 0.63717155, 0.10068755, 0.12805949, 0.89402187],\n",
       "        [0.40086939, 0.99102283, 0.90708224, 0.1820493 , 0.54836366],\n",
       "        [0.28507046, 0.46738342, 0.59414774, 0.78066691, 0.00367048]]])"
      ]
     },
     "execution_count": 8,
     "metadata": {},
     "output_type": "execute_result"
    }
   ],
   "source": [
    "#way 1\n",
    "a=np.random.random((2,3,5))\n",
    "a"
   ]
  },
  {
   "cell_type": "code",
   "execution_count": 11,
   "id": "d50fa3b2-481c-4569-ad99-a82cf3fd0227",
   "metadata": {},
   "outputs": [
    {
     "data": {
      "text/plain": [
       "array([[[0.66687923, 0.05922013, 0.37485253, 0.17605071, 0.88098097],\n",
       "        [0.30020557, 0.77194224, 0.92539106, 0.7175836 , 0.21165136],\n",
       "        [0.02488021, 0.68569977, 0.66809404, 0.31407782, 0.37584337]],\n",
       "\n",
       "       [[0.15827245, 0.80343348, 0.9628553 , 0.78126768, 0.52390444],\n",
       "        [0.49276219, 0.13648323, 0.69632707, 0.63152024, 0.66733276],\n",
       "        [0.33766193, 0.64764177, 0.58816922, 0.34706804, 0.01194322]]])"
      ]
     },
     "execution_count": 11,
     "metadata": {},
     "output_type": "execute_result"
    }
   ],
   "source": [
    "#way2 \n",
    "a=np.random.sample((2,3,5))\n",
    "a"
   ]
  },
  {
   "cell_type": "markdown",
   "id": "62857eb9-538b-486c-a753-8bd13f9abcc0",
   "metadata": {},
   "source": [
    "#4. Print a."
   ]
  },
  {
   "cell_type": "code",
   "execution_count": 13,
   "id": "06d10987-98fb-40dc-a97f-b0b5467cb477",
   "metadata": {},
   "outputs": [
    {
     "name": "stdout",
     "output_type": "stream",
     "text": [
      "[[[0.66687923 0.05922013 0.37485253 0.17605071 0.88098097]\n",
      "  [0.30020557 0.77194224 0.92539106 0.7175836  0.21165136]\n",
      "  [0.02488021 0.68569977 0.66809404 0.31407782 0.37584337]]\n",
      "\n",
      " [[0.15827245 0.80343348 0.9628553  0.78126768 0.52390444]\n",
      "  [0.49276219 0.13648323 0.69632707 0.63152024 0.66733276]\n",
      "  [0.33766193 0.64764177 0.58816922 0.34706804 0.01194322]]]\n"
     ]
    }
   ],
   "source": [
    "print(a)"
   ]
  },
  {
   "cell_type": "markdown",
   "id": "614acac7-8dcf-4f6c-8b9f-1f0823427fd3",
   "metadata": {},
   "source": [
    "#5. Create a 5x2x3 3-dimensional array with all values equaling 1.\n",
    "#Assign the array to variable \"b\""
   ]
  },
  {
   "cell_type": "code",
   "execution_count": 19,
   "id": "eb103050-17c0-4400-bff5-fee49fe5d6ad",
   "metadata": {},
   "outputs": [],
   "source": [
    "b=np.ones((5,2,3))"
   ]
  },
  {
   "cell_type": "markdown",
   "id": "0de2df72-e336-43e7-8d6f-51a1d495e79a",
   "metadata": {},
   "source": [
    "#6. Print b.\n"
   ]
  },
  {
   "cell_type": "code",
   "execution_count": 21,
   "id": "1e9df181-2663-46a3-959b-fba36f3661cb",
   "metadata": {},
   "outputs": [
    {
     "name": "stdout",
     "output_type": "stream",
     "text": [
      "[[[1. 1. 1.]\n",
      "  [1. 1. 1.]]\n",
      "\n",
      " [[1. 1. 1.]\n",
      "  [1. 1. 1.]]\n",
      "\n",
      " [[1. 1. 1.]\n",
      "  [1. 1. 1.]]\n",
      "\n",
      " [[1. 1. 1.]\n",
      "  [1. 1. 1.]]\n",
      "\n",
      " [[1. 1. 1.]\n",
      "  [1. 1. 1.]]]\n"
     ]
    }
   ],
   "source": [
    "print(b)"
   ]
  },
  {
   "cell_type": "markdown",
   "id": "667a8ec9-0c50-406d-b218-1fe8fb5856ef",
   "metadata": {},
   "source": [
    "#7. Do a and b have the same size? How do you prove that in Python code?"
   ]
  },
  {
   "cell_type": "code",
   "execution_count": 23,
   "id": "ee6270d5-9c76-47d9-a183-738aa6be0450",
   "metadata": {},
   "outputs": [
    {
     "data": {
      "text/plain": [
       "30"
      ]
     },
     "execution_count": 23,
     "metadata": {},
     "output_type": "execute_result"
    }
   ],
   "source": [
    "a.size\n"
   ]
  },
  {
   "cell_type": "code",
   "execution_count": 25,
   "id": "29cbef5c-ddde-4893-86ba-a4c02d7d5420",
   "metadata": {},
   "outputs": [
    {
     "data": {
      "text/plain": [
       "30"
      ]
     },
     "execution_count": 25,
     "metadata": {},
     "output_type": "execute_result"
    }
   ],
   "source": [
    "b.size"
   ]
  },
  {
   "cell_type": "code",
   "execution_count": 30,
   "id": "d3c2a621-de0b-4cd4-93b3-3f0da5b351cb",
   "metadata": {},
   "outputs": [
    {
     "name": "stdout",
     "output_type": "stream",
     "text": [
      "a & b have the same size\n"
     ]
    }
   ],
   "source": [
    "if a.size==b.size:\n",
    "    print('a & b have the same size')\n",
    "else:\n",
    "    print('a & b do not have the same size')"
   ]
  },
  {
   "cell_type": "markdown",
   "id": "b3696f3b-4f7f-481d-9c0c-71ae0fe82b4b",
   "metadata": {},
   "source": [
    "\n",
    "#8. Are you able to add a and b? Why or why not?"
   ]
  },
  {
   "cell_type": "code",
   "execution_count": 32,
   "id": "90f487ea-451e-4080-9494-d0298ba067f7",
   "metadata": {},
   "outputs": [
    {
     "ename": "ValueError",
     "evalue": "operands could not be broadcast together with shapes (2,3,5) (5,2,3) ",
     "output_type": "error",
     "traceback": [
      "\u001b[1;31m---------------------------------------------------------------------------\u001b[0m",
      "\u001b[1;31mValueError\u001b[0m                                Traceback (most recent call last)",
      "Input \u001b[1;32mIn [32]\u001b[0m, in \u001b[0;36m<cell line: 1>\u001b[1;34m()\u001b[0m\n\u001b[1;32m----> 1\u001b[0m c\u001b[38;5;241m=\u001b[39m\u001b[43ma\u001b[49m\u001b[38;5;241;43m+\u001b[39;49m\u001b[43mb\u001b[49m\n",
      "\u001b[1;31mValueError\u001b[0m: operands could not be broadcast together with shapes (2,3,5) (5,2,3) "
     ]
    }
   ],
   "source": [
    "c=a+b\n",
    "#It can not be possible to add a & b because they do not share the same shape"
   ]
  },
  {
   "cell_type": "markdown",
   "id": "47952089-9e09-41fc-b2a3-8b57ff98e825",
   "metadata": {},
   "source": [
    "#9. Transpose b so that it has the same structure of a (i.e. become a 2x3x5 array). Assign the transposed array to varialbe \"c\".\n"
   ]
  },
  {
   "cell_type": "code",
   "execution_count": 35,
   "id": "b20f98bb-dc34-4bf6-ac6f-8edc906ee1f7",
   "metadata": {},
   "outputs": [],
   "source": [
    "c=np.transpose(b)"
   ]
  },
  {
   "cell_type": "code",
   "execution_count": 37,
   "id": "f28c291b-3e99-466c-a4f4-21b3a7201cc4",
   "metadata": {},
   "outputs": [
    {
     "data": {
      "text/plain": [
       "array([[[1., 1., 1., 1., 1.],\n",
       "        [1., 1., 1., 1., 1.]],\n",
       "\n",
       "       [[1., 1., 1., 1., 1.],\n",
       "        [1., 1., 1., 1., 1.]],\n",
       "\n",
       "       [[1., 1., 1., 1., 1.],\n",
       "        [1., 1., 1., 1., 1.]]])"
      ]
     },
     "execution_count": 37,
     "metadata": {},
     "output_type": "execute_result"
    }
   ],
   "source": [
    "c"
   ]
  },
  {
   "cell_type": "code",
   "execution_count": 48,
   "id": "e252e583-5ead-4d22-8cfa-8e1d9d1f0ed7",
   "metadata": {},
   "outputs": [
    {
     "data": {
      "text/plain": [
       "array([[[1., 1., 1., 1., 1.],\n",
       "        [1., 1., 1., 1., 1.],\n",
       "        [1., 1., 1., 1., 1.]],\n",
       "\n",
       "       [[1., 1., 1., 1., 1.],\n",
       "        [1., 1., 1., 1., 1.],\n",
       "        [1., 1., 1., 1., 1.]]])"
      ]
     },
     "execution_count": 48,
     "metadata": {},
     "output_type": "execute_result"
    }
   ],
   "source": [
    "c.reshape(2,3,5)"
   ]
  },
  {
   "cell_type": "code",
   "execution_count": 49,
   "id": "471f51e8-696e-4b43-a493-1dc66cd94256",
   "metadata": {},
   "outputs": [
    {
     "data": {
      "text/plain": [
       "array([[[1., 1., 1., 1., 1.],\n",
       "        [1., 1., 1., 1., 1.],\n",
       "        [1., 1., 1., 1., 1.]],\n",
       "\n",
       "       [[1., 1., 1., 1., 1.],\n",
       "        [1., 1., 1., 1., 1.],\n",
       "        [1., 1., 1., 1., 1.]]])"
      ]
     },
     "execution_count": 49,
     "metadata": {},
     "output_type": "execute_result"
    }
   ],
   "source": [
    "c"
   ]
  },
  {
   "cell_type": "code",
   "execution_count": 50,
   "id": "7a2572bd-7b4a-4d9a-849f-1cf8f9019e91",
   "metadata": {},
   "outputs": [
    {
     "data": {
      "text/plain": [
       "(2, 3, 5)"
      ]
     },
     "execution_count": 50,
     "metadata": {},
     "output_type": "execute_result"
    }
   ],
   "source": [
    "c.shape"
   ]
  },
  {
   "cell_type": "markdown",
   "id": "e0ab683c-6b42-484a-962f-0ef5d2150f61",
   "metadata": {},
   "source": [
    "#10. Try to add a and c. Now it should work. Assign the sum to varialbe \"d\". But why does it work now?\n"
   ]
  },
  {
   "cell_type": "code",
   "execution_count": 51,
   "id": "73edfc11-d592-48e7-b78c-14ce6b2b5fd5",
   "metadata": {},
   "outputs": [],
   "source": [
    "d=a+c"
   ]
  },
  {
   "cell_type": "code",
   "execution_count": 52,
   "id": "98ebd7af-c776-4585-b1d2-311e67899b4b",
   "metadata": {},
   "outputs": [
    {
     "data": {
      "text/plain": [
       "array([[[1.66687923, 1.05922013, 1.37485253, 1.17605071, 1.88098097],\n",
       "        [1.30020557, 1.77194224, 1.92539106, 1.7175836 , 1.21165136],\n",
       "        [1.02488021, 1.68569977, 1.66809404, 1.31407782, 1.37584337]],\n",
       "\n",
       "       [[1.15827245, 1.80343348, 1.9628553 , 1.78126768, 1.52390444],\n",
       "        [1.49276219, 1.13648323, 1.69632707, 1.63152024, 1.66733276],\n",
       "        [1.33766193, 1.64764177, 1.58816922, 1.34706804, 1.01194322]]])"
      ]
     },
     "execution_count": 52,
     "metadata": {},
     "output_type": "execute_result"
    }
   ],
   "source": [
    "d\n"
   ]
  },
  {
   "cell_type": "markdown",
   "id": "ef856210-53e4-4486-a6e7-021c5bac303f",
   "metadata": {},
   "source": [
    "#11. Print a and d. Notice the difference and relation of the two array in terms of the values? Explain.\n"
   ]
  },
  {
   "cell_type": "code",
   "execution_count": 54,
   "id": "11074629-93f7-4018-ab45-f6bc17ce78bf",
   "metadata": {},
   "outputs": [
    {
     "data": {
      "text/plain": [
       "array([[[0.66687923, 0.05922013, 0.37485253, 0.17605071, 0.88098097],\n",
       "        [0.30020557, 0.77194224, 0.92539106, 0.7175836 , 0.21165136],\n",
       "        [0.02488021, 0.68569977, 0.66809404, 0.31407782, 0.37584337]],\n",
       "\n",
       "       [[0.15827245, 0.80343348, 0.9628553 , 0.78126768, 0.52390444],\n",
       "        [0.49276219, 0.13648323, 0.69632707, 0.63152024, 0.66733276],\n",
       "        [0.33766193, 0.64764177, 0.58816922, 0.34706804, 0.01194322]]])"
      ]
     },
     "execution_count": 54,
     "metadata": {},
     "output_type": "execute_result"
    }
   ],
   "source": [
    "a"
   ]
  },
  {
   "cell_type": "code",
   "execution_count": 57,
   "id": "235b4336-d9f0-4466-a339-eed423e2e659",
   "metadata": {},
   "outputs": [
    {
     "data": {
      "text/plain": [
       "array([[[1.66687923, 1.05922013, 1.37485253, 1.17605071, 1.88098097],\n",
       "        [1.30020557, 1.77194224, 1.92539106, 1.7175836 , 1.21165136],\n",
       "        [1.02488021, 1.68569977, 1.66809404, 1.31407782, 1.37584337]],\n",
       "\n",
       "       [[1.15827245, 1.80343348, 1.9628553 , 1.78126768, 1.52390444],\n",
       "        [1.49276219, 1.13648323, 1.69632707, 1.63152024, 1.66733276],\n",
       "        [1.33766193, 1.64764177, 1.58816922, 1.34706804, 1.01194322]]])"
      ]
     },
     "execution_count": 57,
     "metadata": {},
     "output_type": "execute_result"
    }
   ],
   "source": [
    "d"
   ]
  },
  {
   "cell_type": "markdown",
   "id": "1bb5a4f8-2a21-439f-86a0-9a36d7c4d5aa",
   "metadata": {},
   "source": [
    "#12. Multiply a and c. Assign the result to e.\n"
   ]
  },
  {
   "cell_type": "code",
   "execution_count": 61,
   "id": "74be0398-bebd-4971-b8ac-7d9c68b93db0",
   "metadata": {},
   "outputs": [],
   "source": [
    "e=a*c\n"
   ]
  },
  {
   "cell_type": "code",
   "execution_count": 62,
   "id": "ef2b2d51-8003-45b4-af0f-553d02200842",
   "metadata": {},
   "outputs": [
    {
     "data": {
      "text/plain": [
       "array([[[0.66687923, 0.05922013, 0.37485253, 0.17605071, 0.88098097],\n",
       "        [0.30020557, 0.77194224, 0.92539106, 0.7175836 , 0.21165136],\n",
       "        [0.02488021, 0.68569977, 0.66809404, 0.31407782, 0.37584337]],\n",
       "\n",
       "       [[0.15827245, 0.80343348, 0.9628553 , 0.78126768, 0.52390444],\n",
       "        [0.49276219, 0.13648323, 0.69632707, 0.63152024, 0.66733276],\n",
       "        [0.33766193, 0.64764177, 0.58816922, 0.34706804, 0.01194322]]])"
      ]
     },
     "execution_count": 62,
     "metadata": {},
     "output_type": "execute_result"
    }
   ],
   "source": [
    "e"
   ]
  },
  {
   "cell_type": "markdown",
   "id": "2531b51f-7b72-4787-98d6-ef6585008d2e",
   "metadata": {},
   "source": [
    "#13. Does e equal to a? Why or why not?"
   ]
  },
  {
   "cell_type": "code",
   "execution_count": 73,
   "id": "a33dbdaa-ba22-4718-8053-e73f7de9e5e3",
   "metadata": {},
   "outputs": [
    {
     "name": "stdout",
     "output_type": "stream",
     "text": [
      "a & e are the same\n"
     ]
    }
   ],
   "source": [
    "#array_equal= returns True if input arrays are shape consistent and all elements equal\n",
    "if np.array_equal(a,e):\n",
    "    print(\"a & e are the same\")\n",
    "else:\n",
    "    print(\"a & e are not the same\")"
   ]
  },
  {
   "cell_type": "markdown",
   "id": "cb4c45ed-f4e2-4187-a96d-b1ce5cfd6e1e",
   "metadata": {},
   "source": [
    "#14. Identify the max, min, and mean values in d. Assign those values to variables \"d_max\", \"d_min\", and \"d_mean\""
   ]
  },
  {
   "cell_type": "code",
   "execution_count": 67,
   "id": "3411420a-a7c0-4ee2-896e-fb536d1034bf",
   "metadata": {},
   "outputs": [],
   "source": [
    "d_min=d.min()\n",
    "d_max=d.max()\n",
    "d_mean=d.mean()"
   ]
  },
  {
   "cell_type": "code",
   "execution_count": 69,
   "id": "8f223841-9c8e-4765-ab5a-491b9f8f7a31",
   "metadata": {},
   "outputs": [
    {
     "name": "stdout",
     "output_type": "stream",
     "text": [
      "1.011943219387294\n",
      "1.9628552959844001\n",
      "1.4979998545854707\n"
     ]
    }
   ],
   "source": [
    "print(d_min)\n",
    "print(d_max)\n",
    "print(d_mean)"
   ]
  },
  {
   "cell_type": "markdown",
   "id": "c8a97b21-7cb9-4dd5-a8eb-ccd775fc30ef",
   "metadata": {},
   "source": [
    "#15. Now we want to label the values in d. First create an empty array \"f\" with the same shape (i.e. 2x3x5) as d using `np.empty`."
   ]
  },
  {
   "cell_type": "code",
   "execution_count": 75,
   "id": "afc4c680-6386-4618-99e2-367a0df24f35",
   "metadata": {},
   "outputs": [],
   "source": [
    "f=np.empty([2,3,5])"
   ]
  },
  {
   "cell_type": "markdown",
   "id": "f20dbde3-e264-4610-8ef6-503c61b9f82c",
   "metadata": {},
   "source": [
    "\"\"\"\n",
    "#16. Populate the values in f. For each value in d, if it's larger than d_min but smaller than d_mean, assign 25 to the corresponding value in f.\n",
    "If a value in d is larger than d_mean but smaller than d_max, assign 75 to the corresponding value in f.\n",
    "If a value equals to d_mean, assign 50 to the corresponding value in f.\n",
    "Assign 0 to the corresponding value(s) in f for d_min in d.\n",
    "Assign 100 to the corresponding value(s) in f for d_max in d.\n",
    "In the end, f should have only the following values: 0, 25, 50, 75, and 100.\n",
    "Note: you don't have to use Numpy in this question.\n",
    "\"\"\""
   ]
  },
  {
   "cell_type": "code",
   "execution_count": 86,
   "id": "e25f296b-fb66-4f55-a57e-a14b2ddb7350",
   "metadata": {},
   "outputs": [
    {
     "name": "stdout",
     "output_type": "stream",
     "text": [
      "[[[ 75  25  25  25  75]\n",
      "  [ 25  75  75  75  25]\n",
      "  [ 25  75  75  25  25]]\n",
      "\n",
      " [[ 25  75 100  75  75]\n",
      "  [ 25  25  75  75  75]\n",
      "  [ 25  75  75  25   0]]]\n"
     ]
    }
   ],
   "source": [
    "#numpy.nditer=Efficient multi-dimensional iterator object to iterate over arrays\n",
    "\n",
    "f=[]\n",
    "for i in np.nditer(d):\n",
    "    if d_min < i < d_mean:\n",
    "        f+=[25]\n",
    "    if d_mean < i < d_max:\n",
    "        f +=[75]\n",
    "    if i == d_mean:\n",
    "        f+=[50]\n",
    "    if i == d_min:\n",
    "        f +=[0]\n",
    "    if i ==d_max:\n",
    "        f +=[100]\n",
    "f=np.reshape(f,d.shape)\n",
    "print(f)\n",
    "    "
   ]
  },
  {
   "cell_type": "markdown",
   "id": "d1589f0c-a84f-4136-b224-e2fb436e6d62",
   "metadata": {},
   "source": [
    "\"\"\"\n",
    "#17. Print d and f. Do you have your expected f?\n",
    "For instance, if your d is:\n",
    "array([[[1.85836099, 1.67064465, 1.62576044, 1.40243961, 1.88454931],\n",
    "        [1.75354326, 1.69403643, 1.36729252, 1.61415071, 1.12104981],\n",
    "        [1.72201435, 1.1862918 , 1.87078449, 1.7726778 , 1.88180042]],\n",
    "\n",
    "       [[1.44747908, 1.31673383, 1.02000951, 1.52218947, 1.97066381],\n",
    "        [1.79129243, 1.74983003, 1.96028037, 1.85166831, 1.65450881],\n",
    "        [1.18068344, 1.9587381 , 1.00656599, 1.93402165, 1.73514584]]])\n",
    "\n",
    "Your f should be:\n",
    "array([[[ 75.,  75.,  75.,  25.,  75.],\n",
    "        [ 75.,  75.,  25.,  25.,  25.],\n",
    "        [ 75.,  25.,  75.,  75.,  75.]],\n",
    "\n",
    "       [[ 25.,  25.,  25.,  25., 100.],\n",
    "        [ 75.,  75.,  75.,  75.,  75.],\n",
    "        [ 25.,  75.,   0.,  75.,  75.]]])\n",
    "\"\"\""
   ]
  },
  {
   "cell_type": "code",
   "execution_count": 88,
   "id": "ba019af5-5baa-468e-9a7f-f89fdb39f233",
   "metadata": {},
   "outputs": [
    {
     "name": "stdout",
     "output_type": "stream",
     "text": [
      "[[[1.66687923 1.05922013 1.37485253 1.17605071 1.88098097]\n",
      "  [1.30020557 1.77194224 1.92539106 1.7175836  1.21165136]\n",
      "  [1.02488021 1.68569977 1.66809404 1.31407782 1.37584337]]\n",
      "\n",
      " [[1.15827245 1.80343348 1.9628553  1.78126768 1.52390444]\n",
      "  [1.49276219 1.13648323 1.69632707 1.63152024 1.66733276]\n",
      "  [1.33766193 1.64764177 1.58816922 1.34706804 1.01194322]]]\n"
     ]
    }
   ],
   "source": [
    "print(d)"
   ]
  },
  {
   "cell_type": "code",
   "execution_count": 90,
   "id": "8bb0d63c-6d89-4498-a861-c9a74a6a87df",
   "metadata": {},
   "outputs": [
    {
     "name": "stdout",
     "output_type": "stream",
     "text": [
      "[[[ 75  25  25  25  75]\n",
      "  [ 25  75  75  75  25]\n",
      "  [ 25  75  75  25  25]]\n",
      "\n",
      " [[ 25  75 100  75  75]\n",
      "  [ 25  25  75  75  75]\n",
      "  [ 25  75  75  25   0]]]\n"
     ]
    }
   ],
   "source": [
    "print(f)"
   ]
  },
  {
   "cell_type": "markdown",
   "id": "6450449a-e755-4297-9f07-3e596c4e6b2d",
   "metadata": {},
   "source": [
    "\n",
    "\"\"\"\n",
    "#18. Bonus question: instead of using numbers (i.e. 0, 25, 50, 75, and 100), how to use string values \n",
    "(\"A\", \"B\", \"C\", \"D\", and \"E\") to label the array elements? You are expecting the result to be:\n",
    "array([[[ 'D',  'D',  'D',  'B',  'D'],\n",
    "        [ 'D',  'D',  'B',  'B',  'B'],\n",
    "        [ 'D',  'B',  'D',  'D',  'D']],\n",
    "\n",
    "       [[ 'B',  'B',  'B',  'B',  'E'],\n",
    "        [ 'D',  'D',  'D',  'D',  'D'],\n",
    "        [ 'B',  'D',   'A',  'D', 'D']]])\n",
    "Again, you don't need Numpy in this question.\n",
    "\"\"\""
   ]
  },
  {
   "cell_type": "code",
   "execution_count": 95,
   "id": "1eec4993-e891-4fad-8a13-726c4644c191",
   "metadata": {},
   "outputs": [
    {
     "name": "stdout",
     "output_type": "stream",
     "text": [
      "[[['D' 'B' 'B' 'B' 'D']\n",
      "  ['B' 'D' 'D' 'D' 'B']\n",
      "  ['B' 'D' 'D' 'B' 'B']]\n",
      "\n",
      " [['B' 'D' 'E' 'D' 'D']\n",
      "  ['B' 'B' 'D' 'D' 'D']\n",
      "  ['B' 'D' 'D' 'B' 'A']]]\n"
     ]
    }
   ],
   "source": [
    "#numpy.nditer=Efficient multi-dimensional iterator object to iterate over arrays\n",
    "g=[]\n",
    "for j in np.nditer(d):\n",
    "    if d_min < j < d_mean:\n",
    "        g+=['B']\n",
    "    if d_mean < j < d_max:\n",
    "        g +=['D']\n",
    "    if j == d_mean:\n",
    "        g+=['C']\n",
    "    if j == d_min:\n",
    "        g +=['A']\n",
    "    if j ==d_max:\n",
    "        g +=['E']\n",
    "g=np.reshape(g,d.shape)\n",
    "print(g)"
   ]
  }
 ],
 "metadata": {
  "kernelspec": {
   "display_name": "Python 3 (ipykernel)",
   "language": "python",
   "name": "python3"
  },
  "language_info": {
   "codemirror_mode": {
    "name": "ipython",
    "version": 3
   },
   "file_extension": ".py",
   "mimetype": "text/x-python",
   "name": "python",
   "nbconvert_exporter": "python",
   "pygments_lexer": "ipython3",
   "version": "3.9.12"
  }
 },
 "nbformat": 4,
 "nbformat_minor": 5
}
